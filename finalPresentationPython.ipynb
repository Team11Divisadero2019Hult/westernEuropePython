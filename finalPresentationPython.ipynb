{
 "cells": [
  {
   "cell_type": "markdown",
   "metadata": {},
   "source": [
    "# Python Final Project "
   ]
  },
  {
   "cell_type": "markdown",
   "metadata": {},
   "source": [
    "## Reading Data and Importing Libraries"
   ]
  },
  {
   "cell_type": "code",
   "execution_count": 1,
   "metadata": {},
   "outputs": [],
   "source": [
    "import pandas as pd\n",
    "\n",
    "# Read Excel\n",
    "regions = pd.read_excel('WDIW.xlsx')\n",
    "\n",
    "# Filter countries by team cool name \n",
    "jetFire = regions[regions['Cool Name'] == 'Jetfire' ]\n",
    "\n"
   ]
  },
  {
   "cell_type": "code",
   "execution_count": 25,
   "metadata": {},
   "outputs": [
    {
     "data": {
      "text/plain": [
       "Income share held by fourth 20%                                                                            22\n",
       "Poverty headcount ratio at $1.90 a day (2011 PPP) (% of population)                                        22\n",
       "Educational attainment, at least completed primary, population 25+ years, total (%) (cumulative)           22\n",
       "GINI index (World Bank estimate)                                                                           22\n",
       "Government expenditure on education, total (% of government expenditure)                                   22\n",
       "Income share held by highest 20%                                                                           22\n",
       "Income share held by lowest 20%                                                                            22\n",
       "Income share held by second 20%                                                                            22\n",
       "Income share held by third 20%                                                                             22\n",
       "Literacy rate, adult total (% of people ages 15 and above)                                                 22\n",
       "Births attended by skilled health staff (% of total)                                                       22\n",
       "Literacy rate, youth total (% of people ages 15-24)                                                        22\n",
       "Prevalence of underweight, weight for age (% of children under 5)                                          22\n",
       "Poverty headcount ratio at $3.20 a day (2011 PPP) (% of population)                                        22\n",
       "Poverty headcount ratio at national poverty lines (% of population)                                        22\n",
       "Educational attainment, Doctoral or equivalent, population 25+, total (%) (cumulative)                     21\n",
       "Educational attainment, at least Bachelor's or equivalent, population 25+, total (%) (cumulative)          21\n",
       "Educational attainment, at least Master's or equivalent, population 25+, total (%) (cumulative)            21\n",
       "Educational attainment, at least completed lower secondary, population 25+, total (%) (cumulative)         21\n",
       "Educational attainment, at least completed post-secondary, population 25+, total (%) (cumulative)          21\n",
       "Educational attainment, at least completed short-cycle tertiary, population 25+, total (%) (cumulative)    21\n",
       "Educational attainment, at least completed upper secondary, population 25+, total (%) (cumulative)         21\n",
       "Prevalence of HIV, total (% of population ages 15-49)                                                      11\n",
       "Population in the largest city (% of urban population)                                                     10\n",
       "Armed forces personnel (% of total labor force)                                                             9\n",
       "Military expenditure (% of GDP)                                                                             9\n",
       "Employment in agriculture (% of total employment) (modeled ILO estimate)                                    8\n",
       "Population, male                                                                                            8\n",
       "Employment in industry (% of total employment) (modeled ILO estimate)                                       8\n",
       "Employment in services (% of total employment) (modeled ILO estimate)                                       8\n",
       "Tax revenue (% of GDP)                                                                                      8\n",
       "Adolescent fertility rate (births per 1,000 women ages 15-19)                                               8\n",
       "Age dependency ratio (% of working-age population)                                                          8\n",
       "Merchandise trade (% of GDP)                                                                                8\n",
       "Prevalence of undernourishment (% of population)                                                            8\n",
       "Population, female                                                                                          8\n",
       "Age dependency ratio, old (% of working-age population)                                                     8\n",
       "Age dependency ratio, young (% of working-age population)                                                   8\n",
       "Population ages 0-14 (% of total population)                                                                8\n",
       "Population ages 15-64 (% of total population)                                                               8\n",
       "Population ages 65 and above (% of total population)                                                        8\n",
       "Agriculture, forestry, and fishing, value added (% of GDP)                                                  7\n",
       "Services, value added (% of GDP)                                                                            7\n",
       "GDP (current US$)                                                                                           7\n",
       "Industry (including construction), value added (% of GDP)                                                   7\n",
       "GDP growth (annual %)                                                                                       6\n",
       "Life expectancy at birth, total (years)                                                                     5\n",
       "Rural population (% of total population)                                                                    4\n",
       "Birth rate, crude (per 1,000 people)                                                                        4\n",
       "Fertility rate, total (births per woman)                                                                    4\n",
       "Death rate, crude (per 1,000 people)                                                                        4\n",
       "Mobile cellular subscriptions (per 100 people)                                                              3\n",
       "Urban population growth (annual %)                                                                          1\n",
       "Urban population (% of total population)                                                                    1\n",
       "dtype: int64"
      ]
     },
     "execution_count": 25,
     "metadata": {},
     "output_type": "execute_result"
    }
   ],
   "source": [
    "# Number of missing values\n",
    "\n",
    "# Number of null values aggregated by sum\n",
    "missingSorted = jetFire.isnull().agg('sum').sort_values(ascending=False)\n",
    "\n",
    "# More than 0 values, a total of 54 columns\n",
    "missingAtLeastOne = missingSorted[missingSorted > 0]\n",
    "\n",
    "# View Information\n",
    "missingAtLeastOne\n"
   ]
  },
  {
   "cell_type": "code",
   "execution_count": null,
   "metadata": {},
   "outputs": [],
   "source": []
  }
 ],
 "metadata": {
  "kernelspec": {
   "display_name": "Python 3",
   "language": "python",
   "name": "python3"
  },
  "language_info": {
   "codemirror_mode": {
    "name": "ipython",
    "version": 3
   },
   "file_extension": ".py",
   "mimetype": "text/x-python",
   "name": "python",
   "nbconvert_exporter": "python",
   "pygments_lexer": "ipython3",
   "version": "3.7.3"
  },
  "toc": {
   "base_numbering": 1,
   "nav_menu": {},
   "number_sections": true,
   "sideBar": false,
   "skip_h1_title": false,
   "title_cell": "Table of Contents",
   "title_sidebar": "Contents",
   "toc_cell": false,
   "toc_position": {
    "height": "47.2727px",
    "left": "1257.99px",
    "top": "51.6051px",
    "width": "160.611px"
   },
   "toc_section_display": false,
   "toc_window_display": true
  },
  "varInspector": {
   "cols": {
    "lenName": 16,
    "lenType": 16,
    "lenVar": 40
   },
   "kernels_config": {
    "python": {
     "delete_cmd_postfix": "",
     "delete_cmd_prefix": "del ",
     "library": "var_list.py",
     "varRefreshCmd": "print(var_dic_list())"
    },
    "r": {
     "delete_cmd_postfix": ") ",
     "delete_cmd_prefix": "rm(",
     "library": "var_list.r",
     "varRefreshCmd": "cat(var_dic_list()) "
    }
   },
   "types_to_exclude": [
    "module",
    "function",
    "builtin_function_or_method",
    "instance",
    "_Feature"
   ],
   "window_display": false
  }
 },
 "nbformat": 4,
 "nbformat_minor": 2
}
