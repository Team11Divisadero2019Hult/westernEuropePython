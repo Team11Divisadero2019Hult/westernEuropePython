{
 "cells": [
  {
   "cell_type": "markdown",
   "metadata": {},
   "source": [
    "# Python Final Project "
   ]
  },
  {
   "cell_type": "markdown",
   "metadata": {},
   "source": [
    "## Reading Data and Importing Libraries"
   ]
  },
  {
   "cell_type": "code",
   "execution_count": null,
   "metadata": {},
   "outputs": [],
   "source": [
    "import pandas as pd\n",
    "\n",
    "# Read Excel\n",
    "regions = pd.read_excel('WDIW.xlsx')\n",
    "\n",
    "# Filter countries by team cool name \n",
    "jetFire = regions[regions['Cool Name'] == 'Jetfire' ]\n",
    "\n"
   ]
  },
  {
   "cell_type": "code",
   "execution_count": null,
   "metadata": {
    "scrolled": false
   },
   "outputs": [],
   "source": [
    "# Number of missing values\n",
    "\n",
    "# Number of null values aggregated by sum\n",
    "missingSorted = jetFire.isnull().agg('sum').sort_values(ascending=False)\n",
    "\n",
    "# More than 0 values, a total of 54 columns\n",
    "missingAtLeastOne = missingSorted[missingSorted > 0]\n",
    "\n",
    "# View Informations\n",
    "missingAtLeastOne"
   ]
  },
  {
   "cell_type": "markdown",
   "metadata": {},
   "source": [
    "## Missing Values "
   ]
  },
  {
   "cell_type": "markdown",
   "metadata": {},
   "source": [
    "### Strategy 1: Finding the values in World Bank"
   ]
  },
  {
   "cell_type": "markdown",
   "metadata": {
    "heading_collapsed": true
   },
   "source": [
    "#### Diego"
   ]
  },
  {
   "cell_type": "markdown",
   "metadata": {
    "heading_collapsed": true,
    "hidden": true
   },
   "source": [
    "##### Subsetting the countries"
   ]
  },
  {
   "cell_type": "code",
   "execution_count": null,
   "metadata": {
    "hidden": true
   },
   "outputs": [],
   "source": [
    "# 6 Countries of Diego\n",
    "diegoCols = ['ITA','LIE','LUX','MCO','NLD','PRT']\n",
    "\n",
    "# Subset of Countr - dies\n",
    "diegoDf = jetFire[jetFire['Country Code'].isin(diegoCols)]"
   ]
  },
  {
   "cell_type": "markdown",
   "metadata": {
    "hidden": true
   },
   "source": [
    "##### Checking Missing Values per countries\n",
    "\n",
    "How many Missing values each country has?"
   ]
  },
  {
   "cell_type": "code",
   "execution_count": null,
   "metadata": {
    "hidden": true
   },
   "outputs": [],
   "source": [
    "# Checking mssing values per countries\n",
    "diegoTranspose = diegoDf.transpose()\n",
    "\n",
    "diegoTranspose.columns = diegoCols\n",
    "\n",
    "diegoMissingSorted = (diegoTranspose.isnull().sum().sort_values(ascending = False) / len(diegoTranspose)) * 100\n",
    "\n",
    "diegoMissingSorted\n",
    "\n",
    "# Monaco, liechtenstein, Luxemburg, Portugal, Netherlands, Italy "
   ]
  },
  {
   "cell_type": "markdown",
   "metadata": {
    "heading_collapsed": true,
    "hidden": true
   },
   "source": [
    "##### Missing Values per Column\n",
    "How many missing values each indicator has?"
   ]
  },
  {
   "cell_type": "code",
   "execution_count": null,
   "metadata": {
    "hidden": true,
    "scrolled": true
   },
   "outputs": [],
   "source": [
    "# Checking missing values per Column\n",
    "diegoMissingCols = diegoDf.isnull().sum().sort_values(ascending = False)\n",
    "\n",
    "# 68 indicators\n",
    "print(f'Matrix Shape: {diegoDf.shape}') \n",
    "\n",
    "# Indicators with 100% missing values\n",
    "print(diegoMissingCols[diegoMissingCols == 6])"
   ]
  },
  {
   "cell_type": "markdown",
   "metadata": {
    "heading_collapsed": true,
    "hidden": true
   },
   "source": [
    "##### More detailed inspection of missing values"
   ]
  },
  {
   "cell_type": "code",
   "execution_count": null,
   "metadata": {
    "hidden": true
   },
   "outputs": [],
   "source": [
    "# Indicators with 2 and 3 missing datapoints\n",
    "\n",
    "diegoMissingCols[diegoMissingCols < 6][diegoMissingCols > 1]"
   ]
  },
  {
   "cell_type": "code",
   "execution_count": null,
   "metadata": {
    "hidden": true,
    "scrolled": false
   },
   "outputs": [],
   "source": [
    "# Only one missing value\n",
    "diegoMissingCols[diegoMissingCols >= 1 ][diegoMissingCols < 2]"
   ]
  },
  {
   "cell_type": "markdown",
   "metadata": {
    "heading_collapsed": true,
    "hidden": true
   },
   "source": [
    "##### Missing Values by Country Data Frame\n",
    "This data frame is composed of indicators with at least 1 missing value"
   ]
  },
  {
   "cell_type": "code",
   "execution_count": null,
   "metadata": {
    "hidden": true,
    "scrolled": false
   },
   "outputs": [],
   "source": [
    "# Subset indicators with at least 1 missing value. This is a boolean DataFrame\n",
    "diegoMissingBool = diegoDf[diegoMissingCols[diegoMissingCols >= 1].index].isnull().copy()\n",
    "\n",
    "# Is null is created again to have the indices, I did this the first time \n",
    "# mask = diegoMissingBool.isnull().any()\n",
    "# diegoMissingbyCountry = diegoDf[mask.index.copy()]\n",
    "\n",
    "# A more elegant way: \n",
    "\n",
    "diegoMissingbyCountry = diegoDf[diegoMissingBool.columns.copy()]\n",
    "\n",
    "\n",
    "# Created Country code column in order to add it as an index\n",
    "diegoMissingbyCountry.loc[:,'CountryCode'] = diegoDf['Country Code'].copy()\n",
    "\n",
    "# modified index to have the country code. Easier subsetting!\n",
    "diegoMissingbyCountry = diegoMissingbyCountry.set_index('CountryCode').copy()\n",
    "\n",
    "# The final dataframe contains the dataframe that has missing values \n",
    "diegoMissingbyCountry\n",
    "\n",
    "\n",
    "\n"
   ]
  },
  {
   "cell_type": "markdown",
   "metadata": {
    "heading_collapsed": true,
    "hidden": true
   },
   "source": [
    "##### Worldbank API - Easy webscraping"
   ]
  },
  {
   "cell_type": "code",
   "execution_count": null,
   "metadata": {
    "hidden": true
   },
   "outputs": [],
   "source": [
    "import world_bank_data as wb\n",
    "\n",
    "# It's necessary to get the indicators code, this is different from the column names. \n",
    "    # E.g: Income share held by fourth 20% is coded as: SI.DST.04TH.20\n",
    "    \n",
    "missingIndicators = diegoMissingCols[diegoMissingCols >= 1].index.copy()\n",
    "\n",
    "# Created empty dataframe with the column format that the API will return\n",
    "    # We just need to append in a simple loop\n",
    "indicatorsCodedMissing = pd.DataFrame(columns = ['name', 'unit', 'source', 'sourceNote', 'sourceOrganization', 'topics'])\n",
    "\n",
    "# Loop to get the missing indicators and store the in the indicatorsCodedMissing data frame\n",
    "for i in list(missingIndicators):\n",
    "    indicatorsCodedMissing = indicatorsCodedMissing.append(wb.search_indicators(i))\n",
    "\n",
    "# We can view the first the indicator names\n",
    "print(f'{indicatorsCodedMissing.index[0:3]} \\n')\n",
    "\n",
    "# We can view the head of the dataframe as well, we have really interesting info! \n",
    "indicatorsCodedMissing.head()"
   ]
  },
  {
   "cell_type": "code",
   "execution_count": null,
   "metadata": {
    "hidden": true
   },
   "outputs": [],
   "source": [
    "# Now we obtain the data for the specific countries that we need\n",
    "\n",
    "import wbdata\n",
    "from datetime import datetime\n",
    "\n",
    "# missingIndicators = diegoMissingCols[diegoMissingCols > 1] \n",
    "\n",
    "# The indicators argument of get_dataframe needs to be a dictionary with \n",
    "    # the codes (previous step) as the key and the new column names as the values (missing Indicators)\n",
    "    # The output is a dataframe, notice that it has hierarchical indexing or multindexing (it makes it more fun and useful)\n",
    "    # It will return the Data frame with all the years in the world bank \n",
    "    \n",
    "keys = list(indicatorsCodedMissing.index)\n",
    "values = list(missingIndicators) \n",
    "\n",
    "\n",
    "wbQueriedDiego = wbdata.get_dataframe(indicators = dict(zip(keys,values)), country = diegoCols, convert_date = False)\n",
    "\n",
    "wbQueriedDiego.head()\n"
   ]
  },
  {
   "cell_type": "code",
   "execution_count": null,
   "metadata": {
    "hidden": true,
    "scrolled": false
   },
   "outputs": [],
   "source": [
    "# Now we subset for a particular year\n",
    "\n",
    "wbQueriedDiego.sort_index(inplace=True)\n",
    "\n",
    "# What is the total of missing values that there are per year \n",
    "for i in range(2013,2019,1):\n",
    "    print('{} missing values out of {} for year {} '.format(wbQueriedDiego.xs(str(i),level='date'). \n",
    "                                                            transpose().isnull().sum().sum(), # Calculates overall sum of null values\n",
    "                                                            wbQueriedDiego.shape[1] * len(wbQueriedDiego.index.levels[0]), # Number of columns * number of countries = total possible missing values \n",
    "                                                i) # ith year \n",
    "        )\n",
    "\n",
    "# It seems that 2015 is the most non-missing updated info that we can obtain \n",
    "\n",
    "# data for 2015 is queried\n",
    "wbQueriedDiego2015 = wbQueriedDiego.xs('2015',level='date')\n",
    "\n",
    "# Printing the data frame to know the contents\n",
    "wbQueriedDiego2015\n",
    "\n",
    "# saving it to excel\n",
    "   \n",
    "# wbQueriedDiego2015.to_excel('worldBank2015DiegoCountries.xlsx')  # This is commented so I don't overwrite by mistake the file"
   ]
  },
  {
   "cell_type": "markdown",
   "metadata": {},
   "source": [
    "### Global Missing Values Analysis "
   ]
  },
  {
   "cell_type": "markdown",
   "metadata": {},
   "source": [
    "#### API call for Global Missing Values\n"
   ]
  },
  {
   "cell_type": "code",
   "execution_count": null,
   "metadata": {
    "scrolled": true
   },
   "outputs": [],
   "source": [
    "import pandas as pd\n",
    "\n",
    "# Read Excel\n",
    "regions = pd.read_excel('WDIW.xlsx')\n",
    "\n",
    "# Filter countries by team cool name \n",
    "jetFire = regions[regions['Cool Name'] == 'Jetfire' ]\n",
    "\n",
    "# Copy original dataset for missingValues treatment\n",
    "missingValuesDf = jetFire.copy()\n",
    "\n",
    "# Checking missing values per countries\n",
    "missingValuesDfTranspose = missingValuesDf.transpose()\n",
    "\n",
    "missingValuesDfTranspose.columns = missingValuesDf['Country Code']\n",
    "\n",
    "missingValuesSortedByCountry = (missingValuesDfTranspose.isnull().\n",
    "                                sum().\n",
    "                                sort_values(ascending = False) / len(missingValuesDfTranspose)) * 100\n",
    "\n",
    "missingValuesSortedByCountry\n",
    "\n",
    "# NEW CELLL\n",
    "\n",
    "\n",
    "# Checking missing values per Column\n",
    "missingValuesByColumn = missingValuesDf.isnull().\\\n",
    "                        sum().sort_values(ascending = False)\n",
    "\n",
    "# 68 indicators\n",
    "print(f'Original Matrix Shape: {missingValuesDf.shape}') \n",
    "\n",
    "missingValuesByColumn\n",
    "\n",
    "# Indicators with 100% missing values\n",
    "print(missingValuesByColumn[missingValuesByColumn == 22])\n",
    "\n",
    "# NEW CELL\n",
    "\n",
    "# Missing Values less than 22 \n",
    "\n",
    "missingValuesByColumn[missingValuesByColumn < 22]\n",
    "\n",
    "\n",
    "# Visualize distribution of missing values by column \n",
    "missingValuesByColumn[missingValuesByColumn].plot.box()\n",
    "\n",
    "# Visualize distribution of missing values by column except 100% missing values (< 22)\n",
    "# Notice how the distribution change if we don't include the 22 missing values\n",
    "missingValuesByColumn[missingValuesByColumn < 22].plot.box()\n",
    "\n",
    "# NEXT CELL \n",
    "\n",
    "\n",
    "\n",
    "# Subset indicators with at least 1 missing value. This is a boolean DataFrame\n",
    "missingValuesBool = missingValuesDf[missingValuesByColumn[missingValuesByColumn >= 1].index].isnull().copy()\n",
    "\n",
    "# Is null is created again to have the indices, I did this the first time \n",
    "# mask = diegoMissingBool.isnull().any()\n",
    "# diegoMissingbyCountry = diegoDf[mask.index.copy()]\n",
    "\n",
    "# A more elegant way: \n",
    "# Extracting from the original values the name of the columns that have at least 1 N/A\n",
    "missingValuesSubset = missingValuesDf[missingValuesBool.columns.copy()]\n",
    "\n",
    "\n",
    "# Created Country code column in order to add it as an index\n",
    "missingValuesSubset.loc[:,'CountryCode'] = missingValuesDf['Country Code'].copy()\n",
    "\n",
    "# modified index to have the country code. Easier subsetting!\n",
    "missingValuesSubset = missingValuesSubset.set_index('CountryCode').copy()\n",
    "\n",
    "# The final dataframe contains the dataframe that has missing values \n",
    "missingValuesSubset\n",
    "\n",
    "\n",
    "# NEXT CELL\n",
    "\n",
    "def extractAllIndicators():\n",
    "    import world_bank_data as wb\n",
    "\n",
    "    # It's necessary to get the indicators code, this is different from the column names. \n",
    "        # E.g: Income share held by fourth 20% is coded as: SI.DST.04TH.20\n",
    "\n",
    "    missingIndicators = missingValuesByColumn[missingValuesByColumn >= 1].index.copy()\n",
    "\n",
    "\n",
    "    # Created empty dataframe with the column format that the API will return\n",
    "        # We just need to append in a simple loop\n",
    "    indicatorsCodedMissing = pd.DataFrame(columns = ['name', 'unit', 'source', 'sourceNote', 'sourceOrganization', 'topics'])\n",
    "\n",
    "\n",
    "    # Loop to get the missing indicators and store the in the indicatorsCodedMissing data frame\n",
    "    for i in list(missingIndicators):\n",
    "        indicatorsCodedMissing = indicatorsCodedMissing.append(wb.search_indicators(i))\n",
    "\n",
    "    # We can view the first the indicator names\n",
    "#     print(f'{indicatorsCodedMissing.index[0:3]} \\n')\n",
    "\n",
    "    # We can view the head of the dataframe as well, we have really interesting info! \n",
    "#     indicatorsCodedMissing.head()\n",
    "\n",
    "    # Shape of matrix \n",
    "#     indicatorsCodedMissing.shape\n",
    "\n",
    "    return indicatorsCodedMissing\n",
    "\n",
    "# Now we obtain the data for the specific countries that we need\n",
    "\n",
    "import wbdata\n",
    "from datetime import datetime\n",
    "\n",
    "# missingIndicators = diegoMissingCols[diegoMissingCols > 1] \n",
    "\n",
    "# The indicators argument of get_dataframe needs to be a dictionary with \n",
    "    # the codes (previous step) as the key and the new column names as the values (missing Indicators)\n",
    "    # The output is a dataframe, notice that it has hierarchical indexing or multindexing (it makes it more fun and useful)\n",
    "    # It will return the Data frame with all the years in the world bank \n",
    "    \n",
    "keys = list(indicatorsCodedMissing.index)\n",
    "values = list(missingIndicators) \n",
    "\n",
    "\n",
    "wbQueriedAll = wbdata.get_dataframe(indicators = dict(zip(keys,values)), country = list(missingValuesDf.index), \n",
    "\tconvert_date = False)\n",
    "\n",
    "wbQueriedAll.head()\n",
    "# Save to csv\n",
    "# wbQueriedAll.to_csv('wbQueriedAll.csv')\n"
   ]
  },
  {
   "cell_type": "markdown",
   "metadata": {
    "heading_collapsed": true
   },
   "source": [
    "#### Read saved csv with missing indicators. \n",
    "Csv from section 1.2.2.1\n"
   ]
  },
  {
   "cell_type": "code",
   "execution_count": null,
   "metadata": {
    "hidden": true,
    "scrolled": true
   },
   "outputs": [],
   "source": [
    "import pandas as pd\n",
    "wbQueriedAll = pd.read_csv('missingValuesAnalysis/wbQueriedAll.csv', index_col = [0,1],skipinitialspace=True)"
   ]
  },
  {
   "cell_type": "code",
   "execution_count": null,
   "metadata": {
    "hidden": true
   },
   "outputs": [],
   "source": [
    "# Now we subset for a particular year\n",
    "\n",
    "wbQueriedAll.sort_index(inplace=True)\n",
    "\n",
    "# What is the total of missing values that there are per year \n",
    "for i in range(2013,2019,1):\n",
    "    print('{} missing values out of {} for year {} '.format(wbQueriedAll.xs(i,level='date'). \n",
    "                                                            transpose().isnull().sum().sum(), # Calculates overall sum of null values\n",
    "                                                            wbQueriedAll.shape[1] * len(wbQueriedAll.index.levels[0]), # Number of columns * number of countries = total possible missing values \n",
    "                                                i) # ith year \n",
    "        )"
   ]
  },
  {
   "cell_type": "markdown",
   "metadata": {
    "heading_collapsed": true
   },
   "source": [
    "### Download all data from all the country and all the indicators\n",
    "The saved dataframe is called wbQueriedAllFull.csv"
   ]
  },
  {
   "cell_type": "code",
   "execution_count": null,
   "metadata": {
    "hidden": true
   },
   "outputs": [],
   "source": [
    "allIndicators = list(jetFire.columns[6:])\n",
    "allCountries = list(jetFire['Country Code'])\n",
    "\n",
    "import world_bank_data as wb\n",
    "\n",
    "indicatorsCodedAll = pd.DataFrame(columns = ['name', 'unit', 'source', 'sourceNote', 'sourceOrganization', 'topics'])\n",
    "\n",
    "# There is a bug using the search_indicators method, it didn't return the proper searched indicators\n",
    "# Loop to get the missing indicators and store the in the indicatorsCodedMissing data frame\n",
    "# for i in allIndicators:\n",
    "#     indicatorsCodedAll = indicatorsCodedAll.append(wb.search_iwb.get_indicators()\n",
    "\n",
    "\n",
    "# Debugged way: \n",
    "universalIndicators = wb.get_indicators(source = 2)\n",
    "\n",
    "for indicator in allIndicators:\n",
    "    indicatorsCodedAll = indicatorsCodedAll.append(universalIndicators[universalIndicators['name'] == indicator])\n",
    "\n",
    "\n",
    "# We can view the first the indicator names\n",
    "print(f'{indicatorsCodedAll.index[0:3]} \\n')\n",
    "\n",
    "# We can view the head of the dataframe as well, we have really interesting info! \n",
    "indicatorsCodedAll.head()\n",
    "\n",
    "# Shape of matrix \n",
    "indicatorsCodedAll.shape\n",
    "\n",
    "# \n",
    "\n",
    "# Now we obtain the data for the specific countries that we need\n",
    "\n",
    "import wbdata\n",
    "from datetime import datetime\n",
    "\n",
    "# missingIndicators = diegoMissingCols[diegoMissingCols > 1] \n",
    "\n",
    "# The indicators argument of get_dataframe needs to be a dictionary with \n",
    "    # the codes (previous step) as the key and the new column names as the values (missing Indicators)\n",
    "    # The output is a dataframe, notice that it has hierarchical indexing or multindexing (it makes it more fun and useful)\n",
    "    # It will return the Data frame with all the years in the world bank \n",
    "    \n",
    "keys = list(indicatorsCodedAll.index)\n",
    "values = allIndicators\n",
    "\n",
    "\n",
    "wbQueriedAllFull = wbdata.get_dataframe(indicators = dict(zip(keys,values)), country = allCountries, \n",
    "\tconvert_date = False)\n",
    "\n",
    "wbQueriedAllFull.head()\n",
    "# Save to csv\n",
    "# wbQueriedAllFull.to_csv('wbQueriedAllFull.csv')"
   ]
  },
  {
   "cell_type": "markdown",
   "metadata": {},
   "source": [
    "### Read all years/countries dataset\n",
    "#### Find which years have the least amount of values\n",
    "#### Save the dataset of all the indicators for year 2017\n",
    "This is the previous dataset wbQueriedAllFull.csv"
   ]
  },
  {
   "cell_type": "code",
   "execution_count": 10,
   "metadata": {
    "scrolled": true
   },
   "outputs": [
    {
     "name": "stdout",
     "output_type": "stream",
     "text": [
      "2010 - 39.77 %\n",
      "2011 - 39.62 %\n",
      "2012 - 40.45 %\n",
      "2013 - 40.68 %\n",
      "2014 - 38.26 %\n",
      "2015 - 38.94 %\n",
      "2016 - 48.41 %\n",
      "2017 - 52.8 %\n",
      "2018 - 66.82 %\n"
     ]
    }
   ],
   "source": [
    "wbQueriedAllFull = pd.read_csv('wbQueriedAllFull.csv', dtype={'date':str}, index_col=['country','date'])\n",
    "\n",
    "\n",
    "for i in range( 2010, 2019):\n",
    "    print(i,'-',(wbQueriedAllFull.xs(i,level='date').isnull().sum().sum() / len(wbQueriedAllFull) *100 ).round(2), '%' )\n",
    "\n",
    "\n",
    "# wbFull2017 = wbQueriedAllFull.xs(2017,level='date')\n",
    "\n",
    "# wbFull2017.to_csv('wbFull2017.csv')"
   ]
  },
  {
   "cell_type": "markdown",
   "metadata": {},
   "source": [
    "### Find missing values of 2017\n",
    "\n",
    "The NAs of 2017 will be looked from 2019 to 2015"
   ]
  },
  {
   "cell_type": "code",
   "execution_count": null,
   "metadata": {},
   "outputs": [],
   "source": [
    "\n",
    "try:\n",
    "    wbQueried2019 = wbQueriedAllFull.xs('2019',level='date')\n",
    "    wbQueried2018 = wbQueriedAllFull.xs('2018',level='date')\n",
    "    wbQueried2017 = wbQueriedAllFull.xs('2017',level='date')\n",
    "    wbQueried2016 = wbQueriedAllFull.xs('2016',level='date')\n",
    "    wbQueried2015 = wbQueriedAllFull.xs('2015',level='date')\n",
    "except:\n",
    "    print('this data was read from the csv file, date index is an integer')\n",
    "    wbQueried2019 = wbQueriedAllFull.xs(2019,level='date')\n",
    "    wbQueried2018 = wbQueriedAllFull.xs(2018,level='date')\n",
    "    wbQueried2017 = wbQueriedAllFull.xs(2017,level='date')\n",
    "    wbQueried2016 = wbQueriedAllFull.xs(2016,level='date')\n",
    "    wbQueried2015 = wbQueriedAllFull.xs(2015,level='date')"
   ]
  },
  {
   "cell_type": "code",
   "execution_count": 9,
   "metadata": {},
   "outputs": [
    {
     "ename": "NameError",
     "evalue": "name 'wbQueriedAllFull' is not defined",
     "output_type": "error",
     "traceback": [
      "\u001b[0;31m---------------------------------------------------------------------------\u001b[0m",
      "\u001b[0;31mNameError\u001b[0m                                 Traceback (most recent call last)",
      "\u001b[0;32m<ipython-input-9-8e859a87253a>\u001b[0m in \u001b[0;36m<module>\u001b[0;34m\u001b[0m\n\u001b[1;32m      4\u001b[0m \u001b[0;31m# DENMARK BIRTH RATE SKILLSED HEALTH\u001b[0m\u001b[0;34m\u001b[0m\u001b[0;34m\u001b[0m\u001b[0;34m\u001b[0m\u001b[0m\n\u001b[1;32m      5\u001b[0m \u001b[0;34m\u001b[0m\u001b[0m\n\u001b[0;32m----> 6\u001b[0;31m \u001b[0mwbQueried2017\u001b[0m \u001b[0;34m=\u001b[0m \u001b[0mwbQueriedAllFull\u001b[0m\u001b[0;34m.\u001b[0m\u001b[0mxs\u001b[0m\u001b[0;34m(\u001b[0m\u001b[0;36m2017\u001b[0m\u001b[0;34m,\u001b[0m\u001b[0mlevel\u001b[0m\u001b[0;34m=\u001b[0m\u001b[0;34m'date'\u001b[0m\u001b[0;34m)\u001b[0m\u001b[0;34m\u001b[0m\u001b[0;34m\u001b[0m\u001b[0m\n\u001b[0m\u001b[1;32m      7\u001b[0m \u001b[0mwbQueriedYear2017\u001b[0m \u001b[0;34m=\u001b[0m \u001b[0mwbQueried2017\u001b[0m\u001b[0;34m.\u001b[0m\u001b[0misnull\u001b[0m\u001b[0;34m(\u001b[0m\u001b[0;34m)\u001b[0m\u001b[0;34m.\u001b[0m\u001b[0mastype\u001b[0m\u001b[0;34m(\u001b[0m\u001b[0mint\u001b[0m\u001b[0;34m)\u001b[0m\u001b[0;34m\u001b[0m\u001b[0;34m\u001b[0m\u001b[0m\n\u001b[1;32m      8\u001b[0m \u001b[0;34m\u001b[0m\u001b[0m\n",
      "\u001b[0;31mNameError\u001b[0m: name 'wbQueriedAllFull' is not defined"
     ]
    }
   ],
   "source": [
    "# wbQueried2017.fillna(wbQueried2016)\n",
    "\n",
    "# wbQueried2017\n",
    "# DENMARK BIRTH RATE SKILLSED HEALTH \n",
    "\n",
    "wbQueried2017 = wbQueriedAllFull.xs(2017,level='date')\n",
    "wbQueriedYear2017 = wbQueried2017.isnull().astype(int)\n",
    "\n",
    "# Replace all NON-Missing values (0) for the year that we encountered them \n",
    "# wbQueried2017IsNull.replace(0,int(2017),inplace=True)\n",
    "wbQueriedYear2017.replace(0,int(2017),inplace=True)\n",
    "\n",
    "# Replace all NULL values(evaluated as 1) for NAN\n",
    "# wbQueried2017IsNull.replace(1,np.nan,inplace=True)\n",
    "wbQueriedYear2017.replace(1,np.nan,inplace=True)\n",
    "\n",
    "\n",
    "# wbQueried2017IsNull = wbQueried2017IsNull.fillna(wbQueried2018)\n",
    "\n",
    "\n",
    "\n",
    "# wbQueriedYear2019 = wbQueriedAllFull.xs('2019',level='date')\n",
    "\n",
    "wbQueriedYear2019 = wbQueried2019.isnull().astype(int)\n",
    "wbQueriedYear2019.replace(0,int(2019),inplace=True)\n",
    "wbQueriedYear2019.replace(1,np.nan,inplace=True)\n",
    "\n",
    "# wbQueriedYear2018 = wbQueriedAllFull.xs('2018',level='date')\n",
    "\n",
    "wbQueriedYear2018 = wbQueried2018.isnull().astype(int)\n",
    "wbQueriedYear2018.replace(0,int(2018),inplace=True)\n",
    "wbQueriedYear2018.replace(1,np.nan,inplace=True)\n",
    "\n",
    "\n",
    "# wbQueried2016 = wbQueriedAllFull.xs('2016',level='date')\n",
    "\n",
    "wbQueriedYear2016 = wbQueried2016.isnull().astype(int)\n",
    "wbQueriedYear2016.replace(0,int(2016),inplace=True)\n",
    "wbQueriedYear2016.replace(1,np.nan,inplace=True)\n",
    "\n",
    "# wbQueried2019 = wbQueriedAllFull.xs('2016',level='date')\n",
    "\n",
    "wbQueriedYear2015 = wbQueried2015.isnull().astype(int)\n",
    "wbQueriedYear2015.replace(0,int(2015),inplace=True)\n",
    "wbQueriedYear2015.replace(1,np.nan,inplace=True)\n",
    "\n",
    "\n",
    "\n",
    "\n",
    "print('-' * 75,'\\n','First loop - Imputing missing values with original datapoints\\n', '-' * 75,'\\n')\n",
    "\n",
    "indexCounter = 0\n",
    "date = [2019,2018,2016,2015]\n",
    "\n",
    "for df in (wbQueried2019,wbQueried2018,wbQueried2016,wbQueried2015):\n",
    "    print(date[indexCounter],'\\nBefore filling NA: ',wbQueried2017.isnull().sum().sum())\n",
    "    \n",
    "    wbQueried2017 = wbQueried2017.fillna(df)\n",
    "    \n",
    "    print('After filling NA: ',wbQueried2017.isnull().sum().sum(),'\\n')\n",
    "    \n",
    "    indexCounter += 1\n",
    "\n",
    "\n",
    "print('-' * 75,'\\n','Second loop - Year items\\n', '-' * 75,'\\n')\n",
    "\n",
    "\n",
    "# Loop to replace each wbQueriedYearXXXX This is to have the most update year other than 2017 for each cell\n",
    "\n",
    "\n",
    "indexCounter = 0\n",
    "date = [2019,2018,2016,2015]\n",
    "\n",
    "for dataframe in (wbQueriedYear2019,wbQueriedYear2018,wbQueriedYear2016,wbQueriedYear2015):\n",
    "#     print(dataframe.isnull().sum().sum())\n",
    "#     print(date[indexCounter])\n",
    "    print(years,'\\nBefore filling NA: ',wbQueriedYear2017.isnull().sum().sum())\n",
    "    \n",
    "    wbQueriedYear2017 = wbQueriedYear2017.fillna(dataframe)\n",
    "    \n",
    "    print('After filling NA: ',wbQueriedYear2017.isnull().sum().sum(),'\\n')\n",
    "    indexCounter += 1\n",
    "\n",
    "    \n",
    "    # Original points dataset \n",
    "wbQueried2017.to_csv('wb_490NA_2019-2015.csv')\n",
    "\n",
    "   # Years dataset \n",
    "# wbQueriedYear2017.to_csv('wbQueriedYears.csv')\n"
   ]
  },
  {
   "cell_type": "markdown",
   "metadata": {},
   "source": [
    "## Exploratory Analysis"
   ]
  },
  {
   "cell_type": "markdown",
   "metadata": {},
   "source": [
    "### Carolina"
   ]
  },
  {
   "cell_type": "code",
   "execution_count": 23,
   "metadata": {},
   "outputs": [
    {
     "name": "stdout",
     "output_type": "stream",
     "text": [
      "                           Access to electricity, rural (% of rural population)  \\\n",
      "country                                                                           \n",
      "Faroe Islands                                                          100.0      \n",
      "Gibraltar                                                              100.0      \n",
      "Greenland                                                              100.0      \n",
      "Isle of Man                                                            100.0      \n",
      "Liechtenstein                                                          100.0      \n",
      "St. Martin (French part)                                               100.0      \n",
      "Monaco                                                                 100.0      \n",
      "Sint Maarten (Dutch part)                                              100.0      \n",
      "\n",
      "                           Access to electricity, urban (% of urban population)  \\\n",
      "country                                                                           \n",
      "Faroe Islands                                                          100.0      \n",
      "Gibraltar                                                              100.0      \n",
      "Greenland                                                              100.0      \n",
      "Isle of Man                                                            100.0      \n",
      "Liechtenstein                                                          100.0      \n",
      "St. Martin (French part)                                               100.0      \n",
      "Monaco                                                                 100.0      \n",
      "Sint Maarten (Dutch part)                                              100.0      \n",
      "\n",
      "                           Adolescent fertility rate (births per 1,000 women ages 15-19)  \\\n",
      "country                                                                                    \n",
      "Faroe Islands                                                            NaN               \n",
      "Gibraltar                                                                NaN               \n",
      "Greenland                                                                NaN               \n",
      "Isle of Man                                                              NaN               \n",
      "Liechtenstein                                                            NaN               \n",
      "St. Martin (French part)                                                 NaN               \n",
      "Monaco                                                                   NaN               \n",
      "Sint Maarten (Dutch part)                                                NaN               \n",
      "\n",
      "                           Age dependency ratio (% of working-age population)  \\\n",
      "country                                                                         \n",
      "Faroe Islands                                                            NaN    \n",
      "Gibraltar                                                                NaN    \n",
      "Greenland                                                                NaN    \n",
      "Isle of Man                                                              NaN    \n",
      "Liechtenstein                                                            NaN    \n",
      "St. Martin (French part)                                                 NaN    \n",
      "Monaco                                                                   NaN    \n",
      "Sint Maarten (Dutch part)                                                NaN    \n",
      "\n",
      "                           Age dependency ratio, old (% of working-age population)  \\\n",
      "country                                                                              \n",
      "Faroe Islands                                                            NaN         \n",
      "Gibraltar                                                                NaN         \n",
      "Greenland                                                                NaN         \n",
      "Isle of Man                                                              NaN         \n",
      "Liechtenstein                                                            NaN         \n",
      "St. Martin (French part)                                                 NaN         \n",
      "Monaco                                                                   NaN         \n",
      "Sint Maarten (Dutch part)                                                NaN         \n",
      "\n",
      "                           Age dependency ratio, young (% of working-age population)  \\\n",
      "country                                                                                \n",
      "Faroe Islands                                                            NaN           \n",
      "Gibraltar                                                                NaN           \n",
      "Greenland                                                                NaN           \n",
      "Isle of Man                                                              NaN           \n",
      "Liechtenstein                                                            NaN           \n",
      "St. Martin (French part)                                                 NaN           \n",
      "Monaco                                                                   NaN           \n",
      "Sint Maarten (Dutch part)                                                NaN           \n",
      "\n",
      "                           Agriculture, forestry, and fishing, value added (% of GDP)  \\\n",
      "country                                                                                 \n",
      "Faroe Islands                                                      19.280522            \n",
      "Gibraltar                                                                NaN            \n",
      "Greenland                                                          19.552620            \n",
      "Isle of Man                                                         0.612842            \n",
      "Liechtenstein                                                            NaN            \n",
      "St. Martin (French part)                                                 NaN            \n",
      "Monaco                                                                   NaN            \n",
      "Sint Maarten (Dutch part)                                           0.088588            \n",
      "\n",
      "                           Armed forces personnel (% of total labor force)  \\\n",
      "country                                                                      \n",
      "Faroe Islands                                                          NaN   \n",
      "Gibraltar                                                              NaN   \n",
      "Greenland                                                              NaN   \n",
      "Isle of Man                                                            NaN   \n",
      "Liechtenstein                                                          NaN   \n",
      "St. Martin (French part)                                               NaN   \n",
      "Monaco                                                                 NaN   \n",
      "Sint Maarten (Dutch part)                                              NaN   \n",
      "\n",
      "                           Birth rate, crude (per 1,000 people)  \\\n",
      "country                                                           \n",
      "Faroe Islands                                              13.1   \n",
      "Gibraltar                                                   NaN   \n",
      "Greenland                                                  15.2   \n",
      "Isle of Man                                                 NaN   \n",
      "Liechtenstein                                               8.9   \n",
      "St. Martin (French part)                                   14.9   \n",
      "Monaco                                                      7.8   \n",
      "Sint Maarten (Dutch part)                                   NaN   \n",
      "\n",
      "                           Births attended by skilled health staff (% of total)  \\\n",
      "country                                                                           \n",
      "Faroe Islands                                                            NaN      \n",
      "Gibraltar                                                                NaN      \n",
      "Greenland                                                                NaN      \n",
      "Isle of Man                                                              NaN      \n",
      "Liechtenstein                                                            NaN      \n",
      "St. Martin (French part)                                                 NaN      \n",
      "Monaco                                                                   NaN      \n",
      "Sint Maarten (Dutch part)                                                NaN      \n",
      "\n",
      "                           ...  \\\n",
      "country                    ...   \n",
      "Faroe Islands              ...   \n",
      "Gibraltar                  ...   \n",
      "Greenland                  ...   \n",
      "Isle of Man                ...   \n",
      "Liechtenstein              ...   \n",
      "St. Martin (French part)   ...   \n",
      "Monaco                     ...   \n",
      "Sint Maarten (Dutch part)  ...   \n",
      "\n",
      "                           Poverty headcount ratio at national poverty lines (% of population)  \\\n",
      "country                                                                                          \n",
      "Faroe Islands                                                            NaN                     \n",
      "Gibraltar                                                                NaN                     \n",
      "Greenland                                                                NaN                     \n",
      "Isle of Man                                                              NaN                     \n",
      "Liechtenstein                                                            NaN                     \n",
      "St. Martin (French part)                                                 NaN                     \n",
      "Monaco                                                                   NaN                     \n",
      "Sint Maarten (Dutch part)                                                NaN                     \n",
      "\n",
      "                           Prevalence of HIV, total (% of population ages 15-49)  \\\n",
      "country                                                                            \n",
      "Faroe Islands                                                            NaN       \n",
      "Gibraltar                                                                NaN       \n",
      "Greenland                                                                NaN       \n",
      "Isle of Man                                                              NaN       \n",
      "Liechtenstein                                                            NaN       \n",
      "St. Martin (French part)                                                 NaN       \n",
      "Monaco                                                                   NaN       \n",
      "Sint Maarten (Dutch part)                                                NaN       \n",
      "\n",
      "                           Prevalence of undernourishment (% of population)  \\\n",
      "country                                                                       \n",
      "Faroe Islands                                                           NaN   \n",
      "Gibraltar                                                               NaN   \n",
      "Greenland                                                               NaN   \n",
      "Isle of Man                                                             NaN   \n",
      "Liechtenstein                                                           NaN   \n",
      "St. Martin (French part)                                                NaN   \n",
      "Monaco                                                                  NaN   \n",
      "Sint Maarten (Dutch part)                                               NaN   \n",
      "\n",
      "                           Prevalence of underweight, weight for age (% of children under 5)  \\\n",
      "country                                                                                        \n",
      "Faroe Islands                                                            NaN                   \n",
      "Gibraltar                                                                NaN                   \n",
      "Greenland                                                                NaN                   \n",
      "Isle of Man                                                              NaN                   \n",
      "Liechtenstein                                                            NaN                   \n",
      "St. Martin (French part)                                                 NaN                   \n",
      "Monaco                                                                   NaN                   \n",
      "Sint Maarten (Dutch part)                                                NaN                   \n",
      "\n",
      "                           Rural population (% of total population)  \\\n",
      "country                                                               \n",
      "Faroe Islands                                                58.086   \n",
      "Gibraltar                                                     0.000   \n",
      "Greenland                                                    13.426   \n",
      "Isle of Man                                                  47.542   \n",
      "Liechtenstein                                                85.685   \n",
      "St. Martin (French part)                                        NaN   \n",
      "Monaco                                                        0.000   \n",
      "Sint Maarten (Dutch part)                                     0.000   \n",
      "\n",
      "                           Services, value added (% of GDP)  \\\n",
      "country                                                       \n",
      "Faroe Islands                                     52.641116   \n",
      "Gibraltar                                               NaN   \n",
      "Greenland                                         61.414794   \n",
      "Isle of Man                                       87.141976   \n",
      "Liechtenstein                                           NaN   \n",
      "St. Martin (French part)                                NaN   \n",
      "Monaco                                            81.712927   \n",
      "Sint Maarten (Dutch part)                         69.260031   \n",
      "\n",
      "                           Surface area (sq. km)  Tax revenue (% of GDP)  \\\n",
      "country                                                                    \n",
      "Faroe Islands                        1396.000061                     NaN   \n",
      "Gibraltar                              10.000000                     NaN   \n",
      "Greenland                          410450.000000                     NaN   \n",
      "Isle of Man                           570.000000                     NaN   \n",
      "Liechtenstein                         160.000000                     NaN   \n",
      "St. Martin (French part)               54.400000                     NaN   \n",
      "Monaco                                  2.000000                     NaN   \n",
      "Sint Maarten (Dutch part)              34.000000                     NaN   \n",
      "\n",
      "                           Urban population (% of total population)  \\\n",
      "country                                                               \n",
      "Faroe Islands                                                41.914   \n",
      "Gibraltar                                                   100.000   \n",
      "Greenland                                                    86.574   \n",
      "Isle of Man                                                  52.458   \n",
      "Liechtenstein                                                14.315   \n",
      "St. Martin (French part)                                        NaN   \n",
      "Monaco                                                      100.000   \n",
      "Sint Maarten (Dutch part)                                   100.000   \n",
      "\n",
      "                           Urban population growth (annual %)  \n",
      "country                                                        \n",
      "Faroe Islands                                        0.653759  \n",
      "Gibraltar                                           -0.026681  \n",
      "Greenland                                            0.259441  \n",
      "Isle of Man                                          0.592347  \n",
      "Liechtenstein                                        0.463092  \n",
      "St. Martin (French part)                                  NaN  \n",
      "Monaco                                               0.842253  \n",
      "Sint Maarten (Dutch part)                            1.502331  \n",
      "\n",
      "[8 rows x 62 columns]\n",
      "368\n",
      "country\n",
      "Faroe Islands                43\n",
      "Gibraltar                    52\n",
      "Greenland                    34\n",
      "Isle of Man                  48\n",
      "Liechtenstein                46\n",
      "St. Martin (French part)     52\n",
      "Monaco                       45\n",
      "Sint Maarten (Dutch part)    48\n",
      "dtype: int64\n"
     ]
    },
    {
     "data": {
      "image/png": "[encoded data removed]",
      "text/plain": [
       "<Figure size 432x288 with 1 Axes>"
      ]
     },
     "metadata": {
      "needs_background": "light"
     },
     "output_type": "display_data"
    }
   ],
   "source": [
    "import numpy as np\n",
    "import matplotlib as plt\n",
    "import pandas as pd\n",
    "\n",
    "#number of missing values of the \"small countries\"\n",
    "print(wbSmallCountries)\n",
    "cells_no_info = wbSmallCountries.isnull().sum().sum()\n",
    "\n",
    "print(cells_no_info)\n",
    "\n",
    "#we want to create a DF of countries with their missing values.\n",
    "\n",
    "smallcountries_1 = wbSmallCountries.isnull().sum(axis=1)\n",
    "print(smallcountries_1)\n",
    "\n",
    "#Barchart from smallcountries_1 \n",
    "cc = smallcountries_1.plot.bar(x='country', y = '')\n",
    "\n",
    "\n"
   ]
  },
  {
   "cell_type": "code",
   "execution_count": null,
   "metadata": {},
   "outputs": [],
   "source": []
  },
  {
   "cell_type": "markdown",
   "metadata": {},
   "source": [
    "### Talyah"
   ]
  },
  {
   "cell_type": "code",
   "execution_count": null,
   "metadata": {},
   "outputs": [],
   "source": []
  },
  {
   "cell_type": "markdown",
   "metadata": {},
   "source": [
    "### Elmir "
   ]
  },
  {
   "cell_type": "code",
   "execution_count": null,
   "metadata": {},
   "outputs": [],
   "source": []
  },
  {
   "cell_type": "markdown",
   "metadata": {},
   "source": [
    "### Diego"
   ]
  },
  {
   "cell_type": "code",
   "execution_count": 8,
   "metadata": {
    "code_folding": [
     1
    ],
    "scrolled": true
   },
   "outputs": [
    {
     "data": {
      "image/png": "[encoded data removed]",
      "text/plain": [
       "<Figure size 432x288 with 1 Axes>"
      ]
     },
     "metadata": {
      "needs_background": "light"
     },
     "output_type": "display_data"
    }
   ],
   "source": [
    "\n",
    "def extractAllIndicators():\n",
    "    import world_bank_data as wb\n",
    "\n",
    "    # It's necessary to get the indicators code, this is different from the column names. \n",
    "        # E.g: Income share held by fourth 20% is coded as: SI.DST.04TH.20\n",
    "\n",
    "    missingIndicators = missingValuesByColumn[missingValuesByColumn >= 1].index.copy()\n",
    "\n",
    "\n",
    "    # Created empty dataframe with the column format that the API will return\n",
    "        # We just need to append in a simple loop\n",
    "    indicatorsCodedMissing = pd.DataFrame(columns = ['name', 'unit', 'source', 'sourceNote', 'sourceOrganization', 'topics'])\n",
    "\n",
    "\n",
    "    # Loop to get the missing indicators and store the in the indicatorsCodedMissing data frame\n",
    "    for i in list(missingIndicators):\n",
    "        indicatorsCodedMissing = indicatorsCodedMissing.append(wb.search_indicators(i))\n",
    "\n",
    "    # We can view the first the indicator names\n",
    "#     print(f'{indicatorsCodedMissing.index[0:3]} \\n')\n",
    "\n",
    "    # We can view the head of the dataframe as well, we have really interesting info! \n",
    "#     indicatorsCodedMissing.head()\n",
    "\n",
    "    # Shape of matrix \n",
    "#     indicatorsCodedMissing.shape\n",
    "\n",
    "    return indicatorsCodedMissing\n",
    "\n",
    "import pandas as pd\n",
    "\n",
    "# Big Countries names\n",
    "bigCountries = ['Austria','Belgium','Denmark',\n",
    "                'France','Germany','Iceland', \n",
    "                'Ireland', 'Italy', 'Luxembourg', \n",
    "                'Netherlands', 'Portugal', 'Spain', \n",
    "                'Switzerland','United Kingdom']\n",
    "\n",
    "\n",
    "# Read last data\n",
    "wbFullDiego = pd.read_csv('wb_490NA_2019-2015.csv')\n",
    "wbFullDiego.set_index('country', inplace = True) # We set the country column as an index\n",
    "\n",
    "# Small and big countries, how many missing values are there\n",
    "wbFullDiegoNA = wbFullDiego.isnull().sum()\n",
    "wbFullDiegoNA[wbFullDiegoNA >= 1].sort_values(ascending=False)\n",
    "\n",
    "\n",
    "# Big countries data set creation\n",
    "wbBigCountries = wbFullDiego.copy()\n",
    "wbBigCountries = wbBigCountries.transpose()\n",
    "wbBigCountries = wbBigCountries[bigCountries].transpose()\n",
    "\n",
    "# Big countries Indicators Null values analysis, which indicators have at least 2 missing value?\n",
    "wbBigCountriesNull = wbBigCountries.isnull().sum()\n",
    "wbBigCountriesNull[wbBigCountriesNull >=2].sort_values(ascending = False)\n",
    "\n",
    "# Big countries have Null values, which countries have missing values?\n",
    "wbBigCountries.transpose().isnull().sum().plot(kind = 'box')\n",
    "wbBigCountries.transpose().isnull().sum().sort_values(ascending = False)\n",
    "\n",
    "\n",
    "\n",
    "\n",
    "\n",
    "# Small countries df creation\n",
    "wbSmallCountries = wbFullDiego.copy()\n",
    "wbSmallCountries = wbSmallCountries.drop(bigCountries)\n",
    "\n",
    "# Small countries null values, analysis, which countries have at least one value missing?\n",
    "\n",
    "wbSmallCountriesNull = wbSmallCountries.isnull().sum()\n",
    "# wbSmallCountries[wbSmallCountriesNull[wbSmallCountriesNull < 1].index] # countries that don't have any missing value\n",
    "\n",
    "# Missing values per country\n",
    "# wbSmallCountries.transpose().isnull().sum().sort_values()\n",
    "\n",
    "###############################################################\n",
    "# Inner join for topics, still pending\n",
    "# indicatorsCodedMissing = extractAllIndicators()\n",
    "# wbFullDiegoTranspose = wbFullDiego.transpose()\n",
    "# wbFullDiegoTranspose.columns = wbFullDiegoTranspose.iloc[0]\n",
    "\n",
    "# indicatorsCodedMissing.set_index('name', inplace = True)\n",
    "# indicatorsCodedMissing.join\n",
    "\n",
    "# wbBigCountries\n",
    "\n",
    "# wbBigCountriesNull[wbBigCountriesNull >=1].sort_values(ascending = False)\n"
   ]
  },
  {
   "cell_type": "code",
   "execution_count": null,
   "metadata": {},
   "outputs": [],
   "source": []
  }
 ],
 "metadata": {
  "kernelspec": {
   "display_name": "Python 3",
   "language": "python",
   "name": "python3"
  },
  "language_info": {
   "codemirror_mode": {
    "name": "ipython",
    "version": 3
   },
   "file_extension": ".py",
   "mimetype": "text/x-python",
   "name": "python",
   "nbconvert_exporter": "python",
   "pygments_lexer": "ipython3",
   "version": "3.7.3"
  },
  "toc": {
   "base_numbering": 1,
   "nav_menu": {},
   "number_sections": true,
   "sideBar": false,
   "skip_h1_title": false,
   "title_cell": "Table of Contents",
   "title_sidebar": "Contents",
   "toc_cell": false,
   "toc_position": {
    "height": "562.76px",
    "left": "1251.94px",
    "top": "52px",
    "width": "284.878px"
   },
   "toc_section_display": true,
   "toc_window_display": false
  },
  "varInspector": {
   "cols": {
    "lenName": 16,
    "lenType": 16,
    "lenVar": 40
   },
   "kernels_config": {
    "python": {
     "delete_cmd_postfix": "",
     "delete_cmd_prefix": "del ",
     "library": "var_list.py",
     "varRefreshCmd": "print(var_dic_list())"
    },
    "r": {
     "delete_cmd_postfix": ") ",
     "delete_cmd_prefix": "rm(",
     "library": "var_list.r",
     "varRefreshCmd": "cat(var_dic_list()) "
    }
   },
   "oldHeight": 541.96875,
   "position": {
    "height": "40px",
    "left": "727px",
    "right": "20px",
    "top": "65px",
    "width": "752.765625px"
   },
   "types_to_exclude": [
    "module",
    "function",
    "builtin_function_or_method",
    "instance",
    "_Feature"
   ],
   "varInspector_section_display": "none",
   "window_display": false
  }
 },
 "nbformat": 4,
 "nbformat_minor": 2
}
