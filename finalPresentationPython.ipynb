{
 "cells": [
  {
   "cell_type": "markdown",
   "metadata": {},
   "source": [
    "# Python Final Project "
   ]
  },
  {
   "cell_type": "markdown",
   "metadata": {},
   "source": [
    "## Reading Data and Importing Libraries"
   ]
  },
  {
   "cell_type": "code",
   "execution_count": 2,
   "metadata": {},
   "outputs": [],
   "source": [
    "import pandas as pd\n",
    "\n",
    "# Read Excel\n",
    "regions = pd.read_excel('WDIW.xlsx')\n",
    "\n",
    "# Filter countries by team cool name \n",
    "jetFire = regions[regions['Cool Name'] == 'Jetfire' ]\n",
    "\n"
   ]
  },
  {
   "cell_type": "code",
   "execution_count": 3,
   "metadata": {
    "scrolled": false
   },
   "outputs": [
    {
     "data": {
      "text/plain": [
       "Income share held by fourth 20%                                                                            22\n",
       "Poverty headcount ratio at $1.90 a day (2011 PPP) (% of population)                                        22\n",
       "Educational attainment, at least completed primary, population 25+ years, total (%) (cumulative)           22\n",
       "GINI index (World Bank estimate)                                                                           22\n",
       "Government expenditure on education, total (% of government expenditure)                                   22\n",
       "Income share held by highest 20%                                                                           22\n",
       "Income share held by lowest 20%                                                                            22\n",
       "Income share held by second 20%                                                                            22\n",
       "Income share held by third 20%                                                                             22\n",
       "Literacy rate, adult total (% of people ages 15 and above)                                                 22\n",
       "Births attended by skilled health staff (% of total)                                                       22\n",
       "Literacy rate, youth total (% of people ages 15-24)                                                        22\n",
       "Prevalence of underweight, weight for age (% of children under 5)                                          22\n",
       "Poverty headcount ratio at $3.20 a day (2011 PPP) (% of population)                                        22\n",
       "Poverty headcount ratio at national poverty lines (% of population)                                        22\n",
       "Educational attainment, Doctoral or equivalent, population 25+, total (%) (cumulative)                     21\n",
       "Educational attainment, at least Bachelor's or equivalent, population 25+, total (%) (cumulative)          21\n",
       "Educational attainment, at least Master's or equivalent, population 25+, total (%) (cumulative)            21\n",
       "Educational attainment, at least completed lower secondary, population 25+, total (%) (cumulative)         21\n",
       "Educational attainment, at least completed post-secondary, population 25+, total (%) (cumulative)          21\n",
       "Educational attainment, at least completed short-cycle tertiary, population 25+, total (%) (cumulative)    21\n",
       "Educational attainment, at least completed upper secondary, population 25+, total (%) (cumulative)         21\n",
       "Prevalence of HIV, total (% of population ages 15-49)                                                      11\n",
       "Population in the largest city (% of urban population)                                                     10\n",
       "Armed forces personnel (% of total labor force)                                                             9\n",
       "Military expenditure (% of GDP)                                                                             9\n",
       "Employment in agriculture (% of total employment) (modeled ILO estimate)                                    8\n",
       "Population, male                                                                                            8\n",
       "Employment in industry (% of total employment) (modeled ILO estimate)                                       8\n",
       "Employment in services (% of total employment) (modeled ILO estimate)                                       8\n",
       "Tax revenue (% of GDP)                                                                                      8\n",
       "Adolescent fertility rate (births per 1,000 women ages 15-19)                                               8\n",
       "Age dependency ratio (% of working-age population)                                                          8\n",
       "Merchandise trade (% of GDP)                                                                                8\n",
       "Prevalence of undernourishment (% of population)                                                            8\n",
       "Population, female                                                                                          8\n",
       "Age dependency ratio, old (% of working-age population)                                                     8\n",
       "Age dependency ratio, young (% of working-age population)                                                   8\n",
       "Population ages 0-14 (% of total population)                                                                8\n",
       "Population ages 15-64 (% of total population)                                                               8\n",
       "Population ages 65 and above (% of total population)                                                        8\n",
       "Agriculture, forestry, and fishing, value added (% of GDP)                                                  7\n",
       "Services, value added (% of GDP)                                                                            7\n",
       "GDP (current US$)                                                                                           7\n",
       "Industry (including construction), value added (% of GDP)                                                   7\n",
       "GDP growth (annual %)                                                                                       6\n",
       "Life expectancy at birth, total (years)                                                                     5\n",
       "Rural population (% of total population)                                                                    4\n",
       "Birth rate, crude (per 1,000 people)                                                                        4\n",
       "Fertility rate, total (births per woman)                                                                    4\n",
       "Death rate, crude (per 1,000 people)                                                                        4\n",
       "Mobile cellular subscriptions (per 100 people)                                                              3\n",
       "Urban population growth (annual %)                                                                          1\n",
       "Urban population (% of total population)                                                                    1\n",
       "dtype: int64"
      ]
     },
     "execution_count": 3,
     "metadata": {},
     "output_type": "execute_result"
    }
   ],
   "source": [
    "# Number of missing values\n",
    "\n",
    "# Number of null values aggregated by sum\n",
    "missingSorted = jetFire.isnull().agg('sum').sort_values(ascending=False)\n",
    "\n",
    "# More than 0 values, a total of 54 columns\n",
    "missingAtLeastOne = missingSorted[missingSorted > 0]\n",
    "\n",
    "# View Informations\n",
    "missingAtLeastOne"
   ]
  },
  {
   "cell_type": "markdown",
   "metadata": {},
   "source": [
    "## Missing Values "
   ]
  },
  {
   "cell_type": "markdown",
   "metadata": {},
   "source": [
    "### Strategy 1: Finding the values in World Bank"
   ]
  },
  {
   "cell_type": "markdown",
   "metadata": {
    "heading_collapsed": true
   },
   "source": [
    "#### Diego"
   ]
  },
  {
   "cell_type": "markdown",
   "metadata": {
    "heading_collapsed": true,
    "hidden": true
   },
   "source": [
    "##### Subsetting the countries"
   ]
  },
  {
   "cell_type": "code",
   "execution_count": 4,
   "metadata": {
    "hidden": true
   },
   "outputs": [],
   "source": [
    "# 6 Countries of Diego\n",
    "diegoCols = ['ITA','LIE','LUX','MCO','NLD','PRT']\n",
    "\n",
    "# Subset of Countr - dies\n",
    "diegoDf = jetFire[jetFire['Country Code'].isin(diegoCols)]"
   ]
  },
  {
   "cell_type": "markdown",
   "metadata": {
    "hidden": true
   },
   "source": [
    "##### Checking Missing Values per countries\n",
    "\n",
    "How many Missing values each country has?"
   ]
  },
  {
   "cell_type": "code",
   "execution_count": 5,
   "metadata": {
    "hidden": true
   },
   "outputs": [
    {
     "data": {
      "text/plain": [
       "MCO    72.058824\n",
       "LIE    67.647059\n",
       "LUX    33.823529\n",
       "PRT    32.352941\n",
       "NLD    32.352941\n",
       "ITA    32.352941\n",
       "dtype: float64"
      ]
     },
     "execution_count": 5,
     "metadata": {},
     "output_type": "execute_result"
    }
   ],
   "source": [
    "# Checking mssing values per countries\n",
    "diegoTranspose = diegoDf.transpose()\n",
    "\n",
    "diegoTranspose.columns = diegoCols\n",
    "\n",
    "diegoMissingSorted = (diegoTranspose.isnull().sum().sort_values(ascending = False) / len(diegoTranspose)) * 100\n",
    "\n",
    "diegoMissingSorted\n",
    "\n",
    "# Monaco, liechtenstein, Luxemburg, Portugal, Netherlands, Italy "
   ]
  },
  {
   "cell_type": "markdown",
   "metadata": {
    "heading_collapsed": true,
    "hidden": true
   },
   "source": [
    "##### Missing Values per Column\n",
    "How many missing values each indicator has?"
   ]
  },
  {
   "cell_type": "code",
   "execution_count": 6,
   "metadata": {
    "hidden": true,
    "scrolled": true
   },
   "outputs": [
    {
     "name": "stdout",
     "output_type": "stream",
     "text": [
      "Matrix Shape: (6, 68)\n",
      "Income share held by fourth 20%                                                                            6\n",
      "Educational attainment, at least completed lower secondary, population 25+, total (%) (cumulative)         6\n",
      "Income share held by lowest 20%                                                                            6\n",
      "Literacy rate, adult total (% of people ages 15 and above)                                                 6\n",
      "Literacy rate, youth total (% of people ages 15-24)                                                        6\n",
      "Income share held by highest 20%                                                                           6\n",
      "Government expenditure on education, total (% of government expenditure)                                   6\n",
      "GINI index (World Bank estimate)                                                                           6\n",
      "Educational attainment, at least completed upper secondary, population 25+, total (%) (cumulative)         6\n",
      "Educational attainment, at least completed short-cycle tertiary, population 25+, total (%) (cumulative)    6\n",
      "Income share held by third 20%                                                                             6\n",
      "Educational attainment, at least completed post-secondary, population 25+, total (%) (cumulative)          6\n",
      "Educational attainment, at least completed primary, population 25+ years, total (%) (cumulative)           6\n",
      "Educational attainment, at least Master's or equivalent, population 25+, total (%) (cumulative)            6\n",
      "Poverty headcount ratio at $1.90 a day (2011 PPP) (% of population)                                        6\n",
      "Births attended by skilled health staff (% of total)                                                       6\n",
      "Prevalence of underweight, weight for age (% of children under 5)                                          6\n",
      "Educational attainment, Doctoral or equivalent, population 25+, total (%) (cumulative)                     6\n",
      "Income share held by second 20%                                                                            6\n",
      "Educational attainment, at least Bachelor's or equivalent, population 25+, total (%) (cumulative)          6\n",
      "Poverty headcount ratio at national poverty lines (% of population)                                        6\n",
      "Poverty headcount ratio at $3.20 a day (2011 PPP) (% of population)                                        6\n",
      "dtype: int64\n"
     ]
    }
   ],
   "source": [
    "# Checking missing values per Column\n",
    "diegoMissingCols = diegoDf.isnull().sum().sort_values(ascending = False)\n",
    "\n",
    "# 68 indicators\n",
    "print(f'Matrix Shape: {diegoDf.shape}') \n",
    "\n",
    "# Indicators with 100% missing values\n",
    "print(diegoMissingCols[diegoMissingCols == 6])"
   ]
  },
  {
   "cell_type": "markdown",
   "metadata": {
    "heading_collapsed": true,
    "hidden": true
   },
   "source": [
    "##### More detailed inspection of missing values"
   ]
  },
  {
   "cell_type": "code",
   "execution_count": 7,
   "metadata": {
    "hidden": true
   },
   "outputs": [
    {
     "data": {
      "text/plain": [
       "Population in the largest city (% of urban population)                      3\n",
       "Employment in agriculture (% of total employment) (modeled ILO estimate)    2\n",
       "Employment in industry (% of total employment) (modeled ILO estimate)       2\n",
       "Adolescent fertility rate (births per 1,000 women ages 15-19)               2\n",
       "Armed forces personnel (% of total labor force)                             2\n",
       "Agriculture, forestry, and fishing, value added (% of GDP)                  2\n",
       "Age dependency ratio, young (% of working-age population)                   2\n",
       "Employment in services (% of total employment) (modeled ILO estimate)       2\n",
       "Industry (including construction), value added (% of GDP)                   2\n",
       "Age dependency ratio (% of working-age population)                          2\n",
       "Population ages 15-64 (% of total population)                               2\n",
       "Tax revenue (% of GDP)                                                      2\n",
       "Services, value added (% of GDP)                                            2\n",
       "Prevalence of undernourishment (% of population)                            2\n",
       "Prevalence of HIV, total (% of population ages 15-49)                       2\n",
       "Population, male                                                            2\n",
       "Population, female                                                          2\n",
       "Population ages 65 and above (% of total population)                        2\n",
       "Age dependency ratio, old (% of working-age population)                     2\n",
       "Population ages 0-14 (% of total population)                                2\n",
       "Merchandise trade (% of GDP)                                                2\n",
       "Military expenditure (% of GDP)                                             2\n",
       "dtype: int64"
      ]
     },
     "execution_count": 7,
     "metadata": {},
     "output_type": "execute_result"
    }
   ],
   "source": [
    "# Indicators with 2 and 3 missing datapoints\n",
    "\n",
    "diegoMissingCols[diegoMissingCols < 6][diegoMissingCols > 1]"
   ]
  },
  {
   "cell_type": "code",
   "execution_count": 8,
   "metadata": {
    "hidden": true,
    "scrolled": false
   },
   "outputs": [
    {
     "data": {
      "text/plain": [
       "Rural population (% of total population)    1\n",
       "Life expectancy at birth, total (years)     1\n",
       "GDP (current US$)                           1\n",
       "GDP growth (annual %)                       1\n",
       "Fertility rate, total (births per woman)    1\n",
       "Birth rate, crude (per 1,000 people)        1\n",
       "Death rate, crude (per 1,000 people)        1\n",
       "dtype: int64"
      ]
     },
     "execution_count": 8,
     "metadata": {},
     "output_type": "execute_result"
    }
   ],
   "source": [
    "# Only one missing value\n",
    "diegoMissingCols[diegoMissingCols >= 1 ][diegoMissingCols < 2]"
   ]
  },
  {
   "cell_type": "markdown",
   "metadata": {
    "heading_collapsed": true,
    "hidden": true
   },
   "source": [
    "##### Missing Values by Country Data Frame\n",
    "This data frame is composed of indicators with at least 1 missing value"
   ]
  },
  {
   "cell_type": "code",
   "execution_count": 10,
   "metadata": {
    "hidden": true,
    "scrolled": false
   },
   "outputs": [
    {
     "data": {
      "text/html": [
       "<div>\n",
       "<style scoped>\n",
       "    .dataframe tbody tr th:only-of-type {\n",
       "        vertical-align: middle;\n",
       "    }\n",
       "\n",
       "    .dataframe tbody tr th {\n",
       "        vertical-align: top;\n",
       "    }\n",
       "\n",
       "    .dataframe thead th {\n",
       "        text-align: right;\n",
       "    }\n",
       "</style>\n",
       "<table border=\"1\" class=\"dataframe\">\n",
       "  <thead>\n",
       "    <tr style=\"text-align: right;\">\n",
       "      <th></th>\n",
       "      <th>Income share held by fourth 20%</th>\n",
       "      <th>Educational attainment, at least completed lower secondary, population 25+, total (%) (cumulative)</th>\n",
       "      <th>Income share held by lowest 20%</th>\n",
       "      <th>Literacy rate, adult total (% of people ages 15 and above)</th>\n",
       "      <th>Literacy rate, youth total (% of people ages 15-24)</th>\n",
       "      <th>Income share held by highest 20%</th>\n",
       "      <th>Government expenditure on education, total (% of government expenditure)</th>\n",
       "      <th>GINI index (World Bank estimate)</th>\n",
       "      <th>Educational attainment, at least completed upper secondary, population 25+, total (%) (cumulative)</th>\n",
       "      <th>Educational attainment, at least completed short-cycle tertiary, population 25+, total (%) (cumulative)</th>\n",
       "      <th>...</th>\n",
       "      <th>Population ages 0-14 (% of total population)</th>\n",
       "      <th>Merchandise trade (% of GDP)</th>\n",
       "      <th>Military expenditure (% of GDP)</th>\n",
       "      <th>Rural population (% of total population)</th>\n",
       "      <th>Life expectancy at birth, total (years)</th>\n",
       "      <th>GDP (current US$)</th>\n",
       "      <th>GDP growth (annual %)</th>\n",
       "      <th>Fertility rate, total (births per woman)</th>\n",
       "      <th>Birth rate, crude (per 1,000 people)</th>\n",
       "      <th>Death rate, crude (per 1,000 people)</th>\n",
       "    </tr>\n",
       "    <tr>\n",
       "      <th>CountryCode</th>\n",
       "      <th></th>\n",
       "      <th></th>\n",
       "      <th></th>\n",
       "      <th></th>\n",
       "      <th></th>\n",
       "      <th></th>\n",
       "      <th></th>\n",
       "      <th></th>\n",
       "      <th></th>\n",
       "      <th></th>\n",
       "      <th></th>\n",
       "      <th></th>\n",
       "      <th></th>\n",
       "      <th></th>\n",
       "      <th></th>\n",
       "      <th></th>\n",
       "      <th></th>\n",
       "      <th></th>\n",
       "      <th></th>\n",
       "      <th></th>\n",
       "      <th></th>\n",
       "    </tr>\n",
       "  </thead>\n",
       "  <tbody>\n",
       "    <tr>\n",
       "      <td>ITA</td>\n",
       "      <td>NaN</td>\n",
       "      <td>NaN</td>\n",
       "      <td>NaN</td>\n",
       "      <td>NaN</td>\n",
       "      <td>NaN</td>\n",
       "      <td>NaN</td>\n",
       "      <td>NaN</td>\n",
       "      <td>NaN</td>\n",
       "      <td>NaN</td>\n",
       "      <td>NaN</td>\n",
       "      <td>...</td>\n",
       "      <td>13.475071</td>\n",
       "      <td>49.345301</td>\n",
       "      <td>1.366529</td>\n",
       "      <td>29.856</td>\n",
       "      <td>83.243902</td>\n",
       "      <td>1.946570e+12</td>\n",
       "      <td>1.684183</td>\n",
       "      <td>1.34</td>\n",
       "      <td>7.6</td>\n",
       "      <td>10.7</td>\n",
       "    </tr>\n",
       "    <tr>\n",
       "      <td>LIE</td>\n",
       "      <td>NaN</td>\n",
       "      <td>NaN</td>\n",
       "      <td>NaN</td>\n",
       "      <td>NaN</td>\n",
       "      <td>NaN</td>\n",
       "      <td>NaN</td>\n",
       "      <td>NaN</td>\n",
       "      <td>NaN</td>\n",
       "      <td>NaN</td>\n",
       "      <td>NaN</td>\n",
       "      <td>...</td>\n",
       "      <td>NaN</td>\n",
       "      <td>NaN</td>\n",
       "      <td>NaN</td>\n",
       "      <td>85.685</td>\n",
       "      <td>82.258537</td>\n",
       "      <td>NaN</td>\n",
       "      <td>NaN</td>\n",
       "      <td>1.61</td>\n",
       "      <td>8.9</td>\n",
       "      <td>6.6</td>\n",
       "    </tr>\n",
       "    <tr>\n",
       "      <td>LUX</td>\n",
       "      <td>NaN</td>\n",
       "      <td>NaN</td>\n",
       "      <td>NaN</td>\n",
       "      <td>NaN</td>\n",
       "      <td>NaN</td>\n",
       "      <td>NaN</td>\n",
       "      <td>NaN</td>\n",
       "      <td>NaN</td>\n",
       "      <td>NaN</td>\n",
       "      <td>NaN</td>\n",
       "      <td>...</td>\n",
       "      <td>16.065111</td>\n",
       "      <td>61.930768</td>\n",
       "      <td>0.576459</td>\n",
       "      <td>9.273</td>\n",
       "      <td>82.685366</td>\n",
       "      <td>6.231636e+10</td>\n",
       "      <td>1.545661</td>\n",
       "      <td>1.41</td>\n",
       "      <td>10.4</td>\n",
       "      <td>7.1</td>\n",
       "    </tr>\n",
       "    <tr>\n",
       "      <td>MCO</td>\n",
       "      <td>NaN</td>\n",
       "      <td>NaN</td>\n",
       "      <td>NaN</td>\n",
       "      <td>NaN</td>\n",
       "      <td>NaN</td>\n",
       "      <td>NaN</td>\n",
       "      <td>NaN</td>\n",
       "      <td>NaN</td>\n",
       "      <td>NaN</td>\n",
       "      <td>NaN</td>\n",
       "      <td>...</td>\n",
       "      <td>NaN</td>\n",
       "      <td>NaN</td>\n",
       "      <td>NaN</td>\n",
       "      <td>NaN</td>\n",
       "      <td>NaN</td>\n",
       "      <td>6.400947e+09</td>\n",
       "      <td>-3.500000</td>\n",
       "      <td>NaN</td>\n",
       "      <td>NaN</td>\n",
       "      <td>NaN</td>\n",
       "    </tr>\n",
       "    <tr>\n",
       "      <td>NLD</td>\n",
       "      <td>NaN</td>\n",
       "      <td>NaN</td>\n",
       "      <td>NaN</td>\n",
       "      <td>NaN</td>\n",
       "      <td>NaN</td>\n",
       "      <td>NaN</td>\n",
       "      <td>NaN</td>\n",
       "      <td>NaN</td>\n",
       "      <td>NaN</td>\n",
       "      <td>NaN</td>\n",
       "      <td>...</td>\n",
       "      <td>16.353130</td>\n",
       "      <td>147.474914</td>\n",
       "      <td>1.158527</td>\n",
       "      <td>8.923</td>\n",
       "      <td>81.560976</td>\n",
       "      <td>8.318099e+11</td>\n",
       "      <td>2.910903</td>\n",
       "      <td>1.66</td>\n",
       "      <td>9.9</td>\n",
       "      <td>8.8</td>\n",
       "    </tr>\n",
       "    <tr>\n",
       "      <td>PRT</td>\n",
       "      <td>NaN</td>\n",
       "      <td>NaN</td>\n",
       "      <td>NaN</td>\n",
       "      <td>NaN</td>\n",
       "      <td>NaN</td>\n",
       "      <td>NaN</td>\n",
       "      <td>NaN</td>\n",
       "      <td>NaN</td>\n",
       "      <td>NaN</td>\n",
       "      <td>NaN</td>\n",
       "      <td>...</td>\n",
       "      <td>13.667078</td>\n",
       "      <td>64.153573</td>\n",
       "      <td>1.669977</td>\n",
       "      <td>35.348</td>\n",
       "      <td>81.124390</td>\n",
       "      <td>2.193081e+11</td>\n",
       "      <td>2.795024</td>\n",
       "      <td>1.36</td>\n",
       "      <td>8.4</td>\n",
       "      <td>10.6</td>\n",
       "    </tr>\n",
       "  </tbody>\n",
       "</table>\n",
       "<p>6 rows × 51 columns</p>\n",
       "</div>"
      ],
      "text/plain": [
       "             Income share held by fourth 20%  \\\n",
       "CountryCode                                    \n",
       "ITA                                      NaN   \n",
       "LIE                                      NaN   \n",
       "LUX                                      NaN   \n",
       "MCO                                      NaN   \n",
       "NLD                                      NaN   \n",
       "PRT                                      NaN   \n",
       "\n",
       "             Educational attainment, at least completed lower secondary, population 25+, total (%) (cumulative)  \\\n",
       "CountryCode                                                                                                       \n",
       "ITA                                                        NaN                                                    \n",
       "LIE                                                        NaN                                                    \n",
       "LUX                                                        NaN                                                    \n",
       "MCO                                                        NaN                                                    \n",
       "NLD                                                        NaN                                                    \n",
       "PRT                                                        NaN                                                    \n",
       "\n",
       "             Income share held by lowest 20%  \\\n",
       "CountryCode                                    \n",
       "ITA                                      NaN   \n",
       "LIE                                      NaN   \n",
       "LUX                                      NaN   \n",
       "MCO                                      NaN   \n",
       "NLD                                      NaN   \n",
       "PRT                                      NaN   \n",
       "\n",
       "             Literacy rate, adult total (% of people ages 15 and above)  \\\n",
       "CountryCode                                                               \n",
       "ITA                                                        NaN            \n",
       "LIE                                                        NaN            \n",
       "LUX                                                        NaN            \n",
       "MCO                                                        NaN            \n",
       "NLD                                                        NaN            \n",
       "PRT                                                        NaN            \n",
       "\n",
       "             Literacy rate, youth total (% of people ages 15-24)  \\\n",
       "CountryCode                                                        \n",
       "ITA                                                        NaN     \n",
       "LIE                                                        NaN     \n",
       "LUX                                                        NaN     \n",
       "MCO                                                        NaN     \n",
       "NLD                                                        NaN     \n",
       "PRT                                                        NaN     \n",
       "\n",
       "             Income share held by highest 20%  \\\n",
       "CountryCode                                     \n",
       "ITA                                       NaN   \n",
       "LIE                                       NaN   \n",
       "LUX                                       NaN   \n",
       "MCO                                       NaN   \n",
       "NLD                                       NaN   \n",
       "PRT                                       NaN   \n",
       "\n",
       "             Government expenditure on education, total (% of government expenditure)  \\\n",
       "CountryCode                                                                             \n",
       "ITA                                                        NaN                          \n",
       "LIE                                                        NaN                          \n",
       "LUX                                                        NaN                          \n",
       "MCO                                                        NaN                          \n",
       "NLD                                                        NaN                          \n",
       "PRT                                                        NaN                          \n",
       "\n",
       "             GINI index (World Bank estimate)  \\\n",
       "CountryCode                                     \n",
       "ITA                                       NaN   \n",
       "LIE                                       NaN   \n",
       "LUX                                       NaN   \n",
       "MCO                                       NaN   \n",
       "NLD                                       NaN   \n",
       "PRT                                       NaN   \n",
       "\n",
       "             Educational attainment, at least completed upper secondary, population 25+, total (%) (cumulative)  \\\n",
       "CountryCode                                                                                                       \n",
       "ITA                                                        NaN                                                    \n",
       "LIE                                                        NaN                                                    \n",
       "LUX                                                        NaN                                                    \n",
       "MCO                                                        NaN                                                    \n",
       "NLD                                                        NaN                                                    \n",
       "PRT                                                        NaN                                                    \n",
       "\n",
       "             Educational attainment, at least completed short-cycle tertiary, population 25+, total (%) (cumulative)  \\\n",
       "CountryCode                                                                                                            \n",
       "ITA                                                        NaN                                                         \n",
       "LIE                                                        NaN                                                         \n",
       "LUX                                                        NaN                                                         \n",
       "MCO                                                        NaN                                                         \n",
       "NLD                                                        NaN                                                         \n",
       "PRT                                                        NaN                                                         \n",
       "\n",
       "             ...  Population ages 0-14 (% of total population)  \\\n",
       "CountryCode  ...                                                 \n",
       "ITA          ...                                     13.475071   \n",
       "LIE          ...                                           NaN   \n",
       "LUX          ...                                     16.065111   \n",
       "MCO          ...                                           NaN   \n",
       "NLD          ...                                     16.353130   \n",
       "PRT          ...                                     13.667078   \n",
       "\n",
       "             Merchandise trade (% of GDP)  Military expenditure (% of GDP)  \\\n",
       "CountryCode                                                                  \n",
       "ITA                             49.345301                         1.366529   \n",
       "LIE                                   NaN                              NaN   \n",
       "LUX                             61.930768                         0.576459   \n",
       "MCO                                   NaN                              NaN   \n",
       "NLD                            147.474914                         1.158527   \n",
       "PRT                             64.153573                         1.669977   \n",
       "\n",
       "             Rural population (% of total population)  \\\n",
       "CountryCode                                             \n",
       "ITA                                            29.856   \n",
       "LIE                                            85.685   \n",
       "LUX                                             9.273   \n",
       "MCO                                               NaN   \n",
       "NLD                                             8.923   \n",
       "PRT                                            35.348   \n",
       "\n",
       "             Life expectancy at birth, total (years)  GDP (current US$)  \\\n",
       "CountryCode                                                               \n",
       "ITA                                        83.243902       1.946570e+12   \n",
       "LIE                                        82.258537                NaN   \n",
       "LUX                                        82.685366       6.231636e+10   \n",
       "MCO                                              NaN       6.400947e+09   \n",
       "NLD                                        81.560976       8.318099e+11   \n",
       "PRT                                        81.124390       2.193081e+11   \n",
       "\n",
       "             GDP growth (annual %)  Fertility rate, total (births per woman)  \\\n",
       "CountryCode                                                                    \n",
       "ITA                       1.684183                                      1.34   \n",
       "LIE                            NaN                                      1.61   \n",
       "LUX                       1.545661                                      1.41   \n",
       "MCO                      -3.500000                                       NaN   \n",
       "NLD                       2.910903                                      1.66   \n",
       "PRT                       2.795024                                      1.36   \n",
       "\n",
       "             Birth rate, crude (per 1,000 people)  \\\n",
       "CountryCode                                         \n",
       "ITA                                           7.6   \n",
       "LIE                                           8.9   \n",
       "LUX                                          10.4   \n",
       "MCO                                           NaN   \n",
       "NLD                                           9.9   \n",
       "PRT                                           8.4   \n",
       "\n",
       "             Death rate, crude (per 1,000 people)  \n",
       "CountryCode                                        \n",
       "ITA                                          10.7  \n",
       "LIE                                           6.6  \n",
       "LUX                                           7.1  \n",
       "MCO                                           NaN  \n",
       "NLD                                           8.8  \n",
       "PRT                                          10.6  \n",
       "\n",
       "[6 rows x 51 columns]"
      ]
     },
     "execution_count": 10,
     "metadata": {},
     "output_type": "execute_result"
    }
   ],
   "source": [
    "# Subset indicators with at least 1 missing value. This is a boolean DataFrame\n",
    "diegoMissingBool = diegoDf[diegoMissingCols[diegoMissingCols >= 1].index].isnull().copy()\n",
    "\n",
    "# Is null is created again to have the indices, I did this the first time \n",
    "# mask = diegoMissingBool.isnull().any()\n",
    "# diegoMissingbyCountry = diegoDf[mask.index.copy()]\n",
    "\n",
    "# A more elegant way: \n",
    "\n",
    "diegoMissingbyCountry = diegoDf[diegoMissingBool.columns.copy()]\n",
    "\n",
    "\n",
    "# Created Country code column in order to add it as an index\n",
    "diegoMissingbyCountry.loc[:,'CountryCode'] = diegoDf['Country Code'].copy()\n",
    "\n",
    "# modified index to have the country code. Easier subsetting!\n",
    "diegoMissingbyCountry = diegoMissingbyCountry.set_index('CountryCode').copy()\n",
    "\n",
    "# The final dataframe contains the dataframe that has missing values \n",
    "diegoMissingbyCountry\n",
    "\n",
    "\n",
    "\n"
   ]
  },
  {
   "cell_type": "markdown",
   "metadata": {
    "heading_collapsed": true,
    "hidden": true
   },
   "source": [
    "##### Worldbank API - Easy webscraping"
   ]
  },
  {
   "cell_type": "code",
   "execution_count": 11,
   "metadata": {
    "hidden": true
   },
   "outputs": [
    {
     "name": "stdout",
     "output_type": "stream",
     "text": [
      "Index(['SI.DST.04TH.20', 'SI.DST.FRST.20', 'SI.DST.05TH.20'], dtype='object') \n",
      "\n"
     ]
    },
    {
     "data": {
      "text/html": [
       "<div>\n",
       "<style scoped>\n",
       "    .dataframe tbody tr th:only-of-type {\n",
       "        vertical-align: middle;\n",
       "    }\n",
       "\n",
       "    .dataframe tbody tr th {\n",
       "        vertical-align: top;\n",
       "    }\n",
       "\n",
       "    .dataframe thead th {\n",
       "        text-align: right;\n",
       "    }\n",
       "</style>\n",
       "<table border=\"1\" class=\"dataframe\">\n",
       "  <thead>\n",
       "    <tr style=\"text-align: right;\">\n",
       "      <th></th>\n",
       "      <th>name</th>\n",
       "      <th>unit</th>\n",
       "      <th>source</th>\n",
       "      <th>sourceNote</th>\n",
       "      <th>sourceOrganization</th>\n",
       "      <th>topics</th>\n",
       "    </tr>\n",
       "  </thead>\n",
       "  <tbody>\n",
       "    <tr>\n",
       "      <td>SI.DST.04TH.20</td>\n",
       "      <td>Income share held by fourth 20%</td>\n",
       "      <td></td>\n",
       "      <td>World Development Indicators</td>\n",
       "      <td>Percentage share of income or consumption is t...</td>\n",
       "      <td>World Bank, Development Research Group. Data a...</td>\n",
       "      <td>Poverty</td>\n",
       "    </tr>\n",
       "    <tr>\n",
       "      <td>SI.DST.FRST.20</td>\n",
       "      <td>Income share held by lowest 20%</td>\n",
       "      <td></td>\n",
       "      <td>World Development Indicators</td>\n",
       "      <td>Percentage share of income or consumption is t...</td>\n",
       "      <td>World Bank, Development Research Group. Data a...</td>\n",
       "      <td>Poverty ,Aid Effectiveness</td>\n",
       "    </tr>\n",
       "    <tr>\n",
       "      <td>SI.DST.05TH.20</td>\n",
       "      <td>Income share held by highest 20%</td>\n",
       "      <td></td>\n",
       "      <td>World Development Indicators</td>\n",
       "      <td>Percentage share of income or consumption is t...</td>\n",
       "      <td>World Bank, Development Research Group. Data a...</td>\n",
       "      <td>Poverty</td>\n",
       "    </tr>\n",
       "    <tr>\n",
       "      <td>SI.DST.03RD.20</td>\n",
       "      <td>Income share held by third 20%</td>\n",
       "      <td></td>\n",
       "      <td>World Development Indicators</td>\n",
       "      <td>Percentage share of income or consumption is t...</td>\n",
       "      <td>World Bank, Development Research Group. Data a...</td>\n",
       "      <td>Poverty</td>\n",
       "    </tr>\n",
       "    <tr>\n",
       "      <td>SI.DST.02ND.20</td>\n",
       "      <td>Income share held by second 20%</td>\n",
       "      <td></td>\n",
       "      <td>World Development Indicators</td>\n",
       "      <td>Percentage share of income or consumption is t...</td>\n",
       "      <td>World Bank, Development Research Group. Data a...</td>\n",
       "      <td>Poverty</td>\n",
       "    </tr>\n",
       "  </tbody>\n",
       "</table>\n",
       "</div>"
      ],
      "text/plain": [
       "                                            name unit  \\\n",
       "SI.DST.04TH.20   Income share held by fourth 20%        \n",
       "SI.DST.FRST.20   Income share held by lowest 20%        \n",
       "SI.DST.05TH.20  Income share held by highest 20%        \n",
       "SI.DST.03RD.20    Income share held by third 20%        \n",
       "SI.DST.02ND.20   Income share held by second 20%        \n",
       "\n",
       "                                      source  \\\n",
       "SI.DST.04TH.20  World Development Indicators   \n",
       "SI.DST.FRST.20  World Development Indicators   \n",
       "SI.DST.05TH.20  World Development Indicators   \n",
       "SI.DST.03RD.20  World Development Indicators   \n",
       "SI.DST.02ND.20  World Development Indicators   \n",
       "\n",
       "                                                       sourceNote  \\\n",
       "SI.DST.04TH.20  Percentage share of income or consumption is t...   \n",
       "SI.DST.FRST.20  Percentage share of income or consumption is t...   \n",
       "SI.DST.05TH.20  Percentage share of income or consumption is t...   \n",
       "SI.DST.03RD.20  Percentage share of income or consumption is t...   \n",
       "SI.DST.02ND.20  Percentage share of income or consumption is t...   \n",
       "\n",
       "                                               sourceOrganization  \\\n",
       "SI.DST.04TH.20  World Bank, Development Research Group. Data a...   \n",
       "SI.DST.FRST.20  World Bank, Development Research Group. Data a...   \n",
       "SI.DST.05TH.20  World Bank, Development Research Group. Data a...   \n",
       "SI.DST.03RD.20  World Bank, Development Research Group. Data a...   \n",
       "SI.DST.02ND.20  World Bank, Development Research Group. Data a...   \n",
       "\n",
       "                                     topics  \n",
       "SI.DST.04TH.20                     Poverty   \n",
       "SI.DST.FRST.20  Poverty ,Aid Effectiveness   \n",
       "SI.DST.05TH.20                     Poverty   \n",
       "SI.DST.03RD.20                     Poverty   \n",
       "SI.DST.02ND.20                     Poverty   "
      ]
     },
     "execution_count": 11,
     "metadata": {},
     "output_type": "execute_result"
    }
   ],
   "source": [
    "import world_bank_data as wb\n",
    "\n",
    "# It's necessary to get the indicators code, this is different from the column names. \n",
    "    # E.g: Income share held by fourth 20% is coded as: SI.DST.04TH.20\n",
    "    \n",
    "missingIndicators = diegoMissingCols[diegoMissingCols >= 1].index.copy()\n",
    "\n",
    "# Created empty dataframe with the column format that the API will return\n",
    "    # We just need to append in a simple loop\n",
    "indicatorsCodedMissing = pd.DataFrame(columns = ['name', 'unit', 'source', 'sourceNote', 'sourceOrganization', 'topics'])\n",
    "\n",
    "# Loop to get the missing indicators and store the in the indicatorsCodedMissing data frame\n",
    "for i in list(missingIndicators):\n",
    "    indicatorsCodedMissing = indicatorsCodedMissing.append(wb.search_indicators(i))\n",
    "\n",
    "# We can view the first the indicator names\n",
    "print(f'{indicatorsCodedMissing.index[0:3]} \\n')\n",
    "\n",
    "# We can view the head of the dataframe as well, we have really interesting info! \n",
    "indicatorsCodedMissing.head()"
   ]
  },
  {
   "cell_type": "code",
   "execution_count": 12,
   "metadata": {
    "hidden": true
   },
   "outputs": [
    {
     "ename": "ModuleNotFoundError",
     "evalue": "No module named 'wbdata'",
     "output_type": "error",
     "traceback": [
      "\u001b[0;31m---------------------------------------------------------------------------\u001b[0m",
      "\u001b[0;31mModuleNotFoundError\u001b[0m                       Traceback (most recent call last)",
      "\u001b[0;32m<ipython-input-12-cc7a4ca6d467>\u001b[0m in \u001b[0;36m<module>\u001b[0;34m\u001b[0m\n\u001b[1;32m      1\u001b[0m \u001b[0;31m# Now we obtain the data for the specific countries that we need\u001b[0m\u001b[0;34m\u001b[0m\u001b[0;34m\u001b[0m\u001b[0;34m\u001b[0m\u001b[0m\n\u001b[1;32m      2\u001b[0m \u001b[0;34m\u001b[0m\u001b[0m\n\u001b[0;32m----> 3\u001b[0;31m \u001b[0;32mimport\u001b[0m \u001b[0mwbdata\u001b[0m\u001b[0;34m\u001b[0m\u001b[0;34m\u001b[0m\u001b[0m\n\u001b[0m\u001b[1;32m      4\u001b[0m \u001b[0;32mfrom\u001b[0m \u001b[0mdatetime\u001b[0m \u001b[0;32mimport\u001b[0m \u001b[0mdatetime\u001b[0m\u001b[0;34m\u001b[0m\u001b[0;34m\u001b[0m\u001b[0m\n\u001b[1;32m      5\u001b[0m \u001b[0;34m\u001b[0m\u001b[0m\n",
      "\u001b[0;31mModuleNotFoundError\u001b[0m: No module named 'wbdata'"
     ]
    }
   ],
   "source": [
    "# Now we obtain the data for the specific countries that we need\n",
    "\n",
    "import wbdata\n",
    "from datetime import datetime\n",
    "\n",
    "# missingIndicators = diegoMissingCols[diegoMissingCols > 1] \n",
    "\n",
    "# The indicators argument of get_dataframe needs to be a dictionary with \n",
    "    # the codes (previous step) as the key and the new column names as the values (missing Indicators)\n",
    "    # The output is a dataframe, notice that it has hierarchical indexing or multindexing (it makes it more fun and useful)\n",
    "    # It will return the Data frame with all the years in the world bank \n",
    "    \n",
    "keys = list(indicatorsCodedMissing.index)\n",
    "values = list(missingIndicators) \n",
    "\n",
    "\n",
    "wbQueriedDiego = wbdata.get_dataframe(indicators = dict(zip(keys,values)), country = diegoCols, convert_date = False)\n",
    "\n",
    "wbQueriedDiego.head()\n"
   ]
  },
  {
   "cell_type": "code",
   "execution_count": null,
   "metadata": {
    "hidden": true,
    "scrolled": false
   },
   "outputs": [],
   "source": [
    "# Now we subset for a particular year\n",
    "\n",
    "wbQueriedDiego.sort_index(inplace=True)\n",
    "\n",
    "# What is the total of missing values that there are per year \n",
    "for i in range(2013,2019,1):\n",
    "    print('{} missing values out of {} for year {} '.format(wbQueriedDiego.xs(str(i),level='date'). \n",
    "                                                            transpose().isnull().sum().sum(), # Calculates overall sum of null values\n",
    "                                                            wbQueriedDiego.shape[1] * len(wbQueriedDiego.index.levels[0]), # Number of columns * number of countries = total possible missing values \n",
    "                                                i) # ith year \n",
    "        )\n",
    "\n",
    "# It seems that 2015 is the most non-missing updated info that we can obtain \n",
    "\n",
    "# data for 2015 is queried\n",
    "wbQueriedDiego2015 = wbQueriedDiego.xs('2015',level='date')\n",
    "\n",
    "# Printing the data frame to know the contents\n",
    "wbQueriedDiego2015\n",
    "\n",
    "# saving it to excel\n",
    "   \n",
    "# wbQueriedDiego2015.to_excel('worldBank2015DiegoCountries.xlsx')  # This is commented so I don't overwrite by mistake the file"
   ]
  },
  {
   "cell_type": "markdown",
   "metadata": {},
   "source": [
    "### Global Missing Values Analysis "
   ]
  },
  {
   "cell_type": "markdown",
   "metadata": {},
   "source": [
    "#### API call for Global Missing Values\n"
   ]
  },
  {
   "cell_type": "code",
   "execution_count": null,
   "metadata": {
    "scrolled": true
   },
   "outputs": [],
   "source": [
    "import pandas as pd\n",
    "\n",
    "# Read Excel\n",
    "regions = pd.read_excel('WDIW.xlsx')\n",
    "\n",
    "# Filter countries by team cool name \n",
    "jetFire = regions[regions['Cool Name'] == 'Jetfire' ]\n",
    "\n",
    "# Copy original dataset for missingValues treatment\n",
    "missingValuesDf = jetFire.copy()\n",
    "\n",
    "# Checking missing values per countries\n",
    "missingValuesDfTranspose = missingValuesDf.transpose()\n",
    "\n",
    "missingValuesDfTranspose.columns = missingValuesDf['Country Code']\n",
    "\n",
    "missingValuesSortedByCountry = (missingValuesDfTranspose.isnull().\n",
    "                                sum().\n",
    "                                sort_values(ascending = False) / len(missingValuesDfTranspose)) * 100\n",
    "\n",
    "missingValuesSortedByCountry\n",
    "\n",
    "# NEW CELLL\n",
    "\n",
    "\n",
    "# Checking missing values per Column\n",
    "missingValuesByColumn = missingValuesDf.isnull().\\\n",
    "                        sum().sort_values(ascending = False)\n",
    "\n",
    "# 68 indicators\n",
    "print(f'Original Matrix Shape: {missingValuesDf.shape}') \n",
    "\n",
    "missingValuesByColumn\n",
    "\n",
    "# Indicators with 100% missing values\n",
    "print(missingValuesByColumn[missingValuesByColumn == 22])\n",
    "\n",
    "# NEW CELL\n",
    "\n",
    "# Missing Values less than 22 \n",
    "\n",
    "missingValuesByColumn[missingValuesByColumn < 22]\n",
    "\n",
    "\n",
    "# Visualize distribution of missing values by column \n",
    "missingValuesByColumn[missingValuesByColumn].plot.box()\n",
    "\n",
    "# Visualize distribution of missing values by column except 100% missing values (< 22)\n",
    "# Notice how the distribution change if we don't include the 22 missing values\n",
    "missingValuesByColumn[missingValuesByColumn < 22].plot.box()\n",
    "\n",
    "# NEXT CELL \n",
    "\n",
    "\n",
    "\n",
    "# Subset indicators with at least 1 missing value. This is a boolean DataFrame\n",
    "missingValuesBool = missingValuesDf[missingValuesByColumn[missingValuesByColumn >= 1].index].isnull().copy()\n",
    "\n",
    "# Is null is created again to have the indices, I did this the first time \n",
    "# mask = diegoMissingBool.isnull().any()\n",
    "# diegoMissingbyCountry = diegoDf[mask.index.copy()]\n",
    "\n",
    "# A more elegant way: \n",
    "# Extracting from the original values the name of the columns that have at least 1 N/A\n",
    "missingValuesSubset = missingValuesDf[missingValuesBool.columns.copy()]\n",
    "\n",
    "\n",
    "# Created Country code column in order to add it as an index\n",
    "missingValuesSubset.loc[:,'CountryCode'] = missingValuesDf['Country Code'].copy()\n",
    "\n",
    "# modified index to have the country code. Easier subsetting!\n",
    "missingValuesSubset = missingValuesSubset.set_index('CountryCode').copy()\n",
    "\n",
    "# The final dataframe contains the dataframe that has missing values \n",
    "missingValuesSubset\n",
    "\n",
    "\n",
    "# NEXT CELL\n",
    "\n",
    "def extractAllIndicators():\n",
    "    import world_bank_data as wb\n",
    "\n",
    "    # It's necessary to get the indicators code, this is different from the column names. \n",
    "        # E.g: Income share held by fourth 20% is coded as: SI.DST.04TH.20\n",
    "\n",
    "    missingIndicators = missingValuesByColumn[missingValuesByColumn >= 1].index.copy()\n",
    "\n",
    "\n",
    "    # Created empty dataframe with the column format that the API will return\n",
    "        # We just need to append in a simple loop\n",
    "    indicatorsCodedMissing = pd.DataFrame(columns = ['name', 'unit', 'source', 'sourceNote', 'sourceOrganization', 'topics'])\n",
    "\n",
    "\n",
    "    # Loop to get the missing indicators and store the in the indicatorsCodedMissing data frame\n",
    "    for i in list(missingIndicators):\n",
    "        indicatorsCodedMissing = indicatorsCodedMissing.append(wb.search_indicators(i))\n",
    "\n",
    "    # We can view the first the indicator names\n",
    "#     print(f'{indicatorsCodedMissing.index[0:3]} \\n')\n",
    "\n",
    "    # We can view the head of the dataframe as well, we have really interesting info! \n",
    "#     indicatorsCodedMissing.head()\n",
    "\n",
    "    # Shape of matrix \n",
    "#     indicatorsCodedMissing.shape\n",
    "\n",
    "    return indicatorsCodedMissing\n",
    "\n",
    "# Now we obtain the data for the specific countries that we need\n",
    "\n",
    "import wbdata\n",
    "from datetime import datetime\n",
    "\n",
    "# missingIndicators = diegoMissingCols[diegoMissingCols > 1] \n",
    "\n",
    "# The indicators argument of get_dataframe needs to be a dictionary with \n",
    "    # the codes (previous step) as the key and the new column names as the values (missing Indicators)\n",
    "    # The output is a dataframe, notice that it has hierarchical indexing or multindexing (it makes it more fun and useful)\n",
    "    # It will return the Data frame with all the years in the world bank \n",
    "    \n",
    "keys = list(indicatorsCodedMissing.index)\n",
    "values = list(missingIndicators) \n",
    "\n",
    "\n",
    "wbQueriedAll = wbdata.get_dataframe(indicators = dict(zip(keys,values)), country = list(missingValuesDf.index), \n",
    "\tconvert_date = False)\n",
    "\n",
    "wbQueriedAll.head()\n",
    "# Save to csv\n",
    "# wbQueriedAll.to_csv('wbQueriedAll.csv')\n"
   ]
  },
  {
   "cell_type": "markdown",
   "metadata": {
    "heading_collapsed": true
   },
   "source": [
    "#### Read saved csv with missing indicators. \n",
    "Csv from section 1.2.2.1\n"
   ]
  },
  {
   "cell_type": "code",
   "execution_count": null,
   "metadata": {
    "hidden": true,
    "scrolled": true
   },
   "outputs": [],
   "source": [
    "import pandas as pd\n",
    "wbQueriedAll = pd.read_csv('missingValuesAnalysis/wbQueriedAll.csv', index_col = [0,1],skipinitialspace=True)"
   ]
  },
  {
   "cell_type": "code",
   "execution_count": null,
   "metadata": {
    "hidden": true
   },
   "outputs": [],
   "source": [
    "# Now we subset for a particular year\n",
    "\n",
    "wbQueriedAll.sort_index(inplace=True)\n",
    "\n",
    "# What is the total of missing values that there are per year \n",
    "for i in range(2013,2019,1):\n",
    "    print('{} missing values out of {} for year {} '.format(wbQueriedAll.xs(i,level='date'). \n",
    "                                                            transpose().isnull().sum().sum(), # Calculates overall sum of null values\n",
    "                                                            wbQueriedAll.shape[1] * len(wbQueriedAll.index.levels[0]), # Number of columns * number of countries = total possible missing values \n",
    "                                                i) # ith year \n",
    "        )"
   ]
  },
  {
   "cell_type": "markdown",
   "metadata": {
    "heading_collapsed": true
   },
   "source": [
    "### Download all data from all the country and all the indicators\n",
    "The saved dataframe is called wbQueriedAllFull.csv"
   ]
  },
  {
   "cell_type": "code",
   "execution_count": null,
   "metadata": {
    "hidden": true
   },
   "outputs": [],
   "source": [
    "allIndicators = list(jetFire.columns[6:])\n",
    "allCountries = list(jetFire['Country Code'])\n",
    "\n",
    "import world_bank_data as wb\n",
    "\n",
    "indicatorsCodedAll = pd.DataFrame(columns = ['name', 'unit', 'source', 'sourceNote', 'sourceOrganization', 'topics'])\n",
    "\n",
    "# There is a bug using the search_indicators method, it didn't return the proper searched indicators\n",
    "# Loop to get the missing indicators and store the in the indicatorsCodedMissing data frame\n",
    "# for i in allIndicators:\n",
    "#     indicatorsCodedAll = indicatorsCodedAll.append(wb.search_iwb.get_indicators()\n",
    "\n",
    "\n",
    "# Debugged way: \n",
    "universalIndicators = wb.get_indicators(source = 2)\n",
    "\n",
    "for indicator in allIndicators:\n",
    "    indicatorsCodedAll = indicatorsCodedAll.append(universalIndicators[universalIndicators['name'] == indicator])\n",
    "\n",
    "\n",
    "# We can view the first the indicator names\n",
    "print(f'{indicatorsCodedAll.index[0:3]} \\n')\n",
    "\n",
    "# We can view the head of the dataframe as well, we have really interesting info! \n",
    "indicatorsCodedAll.head()\n",
    "\n",
    "# Shape of matrix \n",
    "indicatorsCodedAll.shape\n",
    "\n",
    "# \n",
    "\n",
    "# Now we obtain the data for the specific countries that we need\n",
    "\n",
    "import wbdata\n",
    "from datetime import datetime\n",
    "\n",
    "# missingIndicators = diegoMissingCols[diegoMissingCols > 1] \n",
    "\n",
    "# The indicators argument of get_dataframe needs to be a dictionary with \n",
    "    # the codes (previous step) as the key and the new column names as the values (missing Indicators)\n",
    "    # The output is a dataframe, notice that it has hierarchical indexing or multindexing (it makes it more fun and useful)\n",
    "    # It will return the Data frame with all the years in the world bank \n",
    "    \n",
    "keys = list(indicatorsCodedAll.index)\n",
    "values = allIndicators\n",
    "\n",
    "\n",
    "wbQueriedAllFull = wbdata.get_dataframe(indicators = dict(zip(keys,values)), country = allCountries, \n",
    "\tconvert_date = False)\n",
    "\n",
    "wbQueriedAllFull.head()\n",
    "# Save to csv\n",
    "# wbQueriedAllFull.to_csv('wbQueriedAllFull.csv')"
   ]
  },
  {
   "cell_type": "markdown",
   "metadata": {},
   "source": [
    "### Read all years/countries dataset\n",
    "#### Find which years have the least amount of values\n",
    "#### Save the dataset of all the indicators for year 2017\n",
    "This is the previous dataset wbQueriedAllFull.csv"
   ]
  },
  {
   "cell_type": "code",
   "execution_count": null,
   "metadata": {
    "scrolled": true
   },
   "outputs": [],
   "source": [
    "wbQueriedAllFull = pd.read_csv('wbQueriedAllFull.csv', dtype={'date':str}, index_col=['country','date'])\n",
    "\n",
    "\n",
    "for i in range( 2010, 2019):\n",
    "    print(i,'-',(wbQueriedAllFull.xs(i,level='date').isnull().sum().sum() / len(wbQueriedAllFull) *100 ).round(2), '%' )\n",
    "\n",
    "\n",
    "# wbFull2017 = wbQueriedAllFull.xs(2017,level='date')\n",
    "\n",
    "# wbFull2017.to_csv('wbFull2017.csv')"
   ]
  },
  {
   "cell_type": "markdown",
   "metadata": {},
   "source": [
    "### Find missing values of 2017\n",
    "\n",
    "The NAs of 2017 will be looked from 2019 to 2015"
   ]
  },
  {
   "cell_type": "code",
   "execution_count": null,
   "metadata": {},
   "outputs": [],
   "source": [
    "\n",
    "try:\n",
    "    wbQueried2019 = wbQueriedAllFull.xs('2019',level='date')\n",
    "    wbQueried2018 = wbQueriedAllFull.xs('2018',level='date')\n",
    "    wbQueried2017 = wbQueriedAllFull.xs('2017',level='date')\n",
    "    wbQueried2016 = wbQueriedAllFull.xs('2016',level='date')\n",
    "    wbQueried2015 = wbQueriedAllFull.xs('2015',level='date')\n",
    "except:\n",
    "    print('this data was read from the csv file, date index is an integer')\n",
    "    wbQueried2019 = wbQueriedAllFull.xs(2019,level='date')\n",
    "    wbQueried2018 = wbQueriedAllFull.xs(2018,level='date')\n",
    "    wbQueried2017 = wbQueriedAllFull.xs(2017,level='date')\n",
    "    wbQueried2016 = wbQueriedAllFull.xs(2016,level='date')\n",
    "    wbQueried2015 = wbQueriedAllFull.xs(2015,level='date')"
   ]
  },
  {
   "cell_type": "code",
   "execution_count": null,
   "metadata": {},
   "outputs": [],
   "source": [
    "# wbQueried2017.fillna(wbQueried2016)\n",
    "\n",
    "# wbQueried2017\n",
    "# DENMARK BIRTH RATE SKILLSED HEALTH \n",
    "\n",
    "wbQueried2017 = wbQueriedAllFull.xs(2017,level='date')\n",
    "wbQueriedYear2017 = wbQueried2017.isnull().astype(int)\n",
    "\n",
    "# Replace all NON-Missing values (0) for the year that we encountered them \n",
    "# wbQueried2017IsNull.replace(0,int(2017),inplace=True)\n",
    "wbQueriedYear2017.replace(0,int(2017),inplace=True)\n",
    "\n",
    "# Replace all NULL values(evaluated as 1) for NAN\n",
    "# wbQueried2017IsNull.replace(1,np.nan,inplace=True)\n",
    "wbQueriedYear2017.replace(1,np.nan,inplace=True)\n",
    "\n",
    "\n",
    "# wbQueried2017IsNull = wbQueried2017IsNull.fillna(wbQueried2018)\n",
    "\n",
    "\n",
    "\n",
    "# wbQueriedYear2019 = wbQueriedAllFull.xs('2019',level='date')\n",
    "\n",
    "wbQueriedYear2019 = wbQueried2019.isnull().astype(int)\n",
    "wbQueriedYear2019.replace(0,int(2019),inplace=True)\n",
    "wbQueriedYear2019.replace(1,np.nan,inplace=True)\n",
    "\n",
    "# wbQueriedYear2018 = wbQueriedAllFull.xs('2018',level='date')\n",
    "\n",
    "wbQueriedYear2018 = wbQueried2018.isnull().astype(int)\n",
    "wbQueriedYear2018.replace(0,int(2018),inplace=True)\n",
    "wbQueriedYear2018.replace(1,np.nan,inplace=True)\n",
    "\n",
    "\n",
    "# wbQueried2016 = wbQueriedAllFull.xs('2016',level='date')\n",
    "\n",
    "wbQueriedYear2016 = wbQueried2016.isnull().astype(int)\n",
    "wbQueriedYear2016.replace(0,int(2016),inplace=True)\n",
    "wbQueriedYear2016.replace(1,np.nan,inplace=True)\n",
    "\n",
    "# wbQueried2019 = wbQueriedAllFull.xs('2016',level='date')\n",
    "\n",
    "wbQueriedYear2015 = wbQueried2015.isnull().astype(int)\n",
    "wbQueriedYear2015.replace(0,int(2015),inplace=True)\n",
    "wbQueriedYear2015.replace(1,np.nan,inplace=True)\n",
    "\n",
    "\n",
    "\n",
    "\n",
    "print('-' * 75,'\\n','First loop - Imputing missing values with original datapoints\\n', '-' * 75,'\\n')\n",
    "\n",
    "indexCounter = 0\n",
    "date = [2019,2018,2016,2015]\n",
    "\n",
    "for df in (wbQueried2019,wbQueried2018,wbQueried2016,wbQueried2015):\n",
    "    print(date[indexCounter],'\\nBefore filling NA: ',wbQueried2017.isnull().sum().sum())\n",
    "    \n",
    "    wbQueried2017 = wbQueried2017.fillna(df)\n",
    "    \n",
    "    print('After filling NA: ',wbQueried2017.isnull().sum().sum(),'\\n')\n",
    "    \n",
    "    indexCounter += 1\n",
    "\n",
    "\n",
    "print('-' * 75,'\\n','Second loop - Year items\\n', '-' * 75,'\\n')\n",
    "\n",
    "\n",
    "# Loop to replace each wbQueriedYearXXXX This is to have the most update year other than 2017 for each cell\n",
    "\n",
    "\n",
    "indexCounter = 0\n",
    "date = [2019,2018,2016,2015]\n",
    "\n",
    "for dataframe in (wbQueriedYear2019,wbQueriedYear2018,wbQueriedYear2016,wbQueriedYear2015):\n",
    "#     print(dataframe.isnull().sum().sum())\n",
    "#     print(date[indexCounter])\n",
    "    print(years,'\\nBefore filling NA: ',wbQueriedYear2017.isnull().sum().sum())\n",
    "    \n",
    "    wbQueriedYear2017 = wbQueriedYear2017.fillna(dataframe)\n",
    "    \n",
    "    print('After filling NA: ',wbQueriedYear2017.isnull().sum().sum(),'\\n')\n",
    "    indexCounter += 1\n",
    "\n",
    "    \n",
    "    # Original points dataset \n",
    "wbQueried2017.to_csv('wb_490NA_2019-2015.csv')\n",
    "\n",
    "   # Years dataset \n",
    "# wbQueriedYear2017.to_csv('wbQueriedYears.csv')\n"
   ]
  },
  {
   "cell_type": "markdown",
   "metadata": {},
   "source": [
    "## Exploratory Analysis"
   ]
  },
  {
   "cell_type": "markdown",
   "metadata": {},
   "source": [
    "### Carolina"
   ]
  },
  {
   "cell_type": "code",
   "execution_count": 13,
   "metadata": {},
   "outputs": [
    {
     "ename": "NameError",
     "evalue": "name 'wbSmallCountries' is not defined",
     "output_type": "error",
     "traceback": [
      "\u001b[0;31m---------------------------------------------------------------------------\u001b[0m",
      "\u001b[0;31mNameError\u001b[0m                                 Traceback (most recent call last)",
      "\u001b[0;32m<ipython-input-13-0d1d423f4114>\u001b[0m in \u001b[0;36m<module>\u001b[0;34m\u001b[0m\n\u001b[1;32m      4\u001b[0m \u001b[0;34m\u001b[0m\u001b[0m\n\u001b[1;32m      5\u001b[0m \u001b[0;31m#number of missing values of the \"small countries\"\u001b[0m\u001b[0;34m\u001b[0m\u001b[0;34m\u001b[0m\u001b[0;34m\u001b[0m\u001b[0m\n\u001b[0;32m----> 6\u001b[0;31m \u001b[0mprint\u001b[0m\u001b[0;34m(\u001b[0m\u001b[0mwbSmallCountries\u001b[0m\u001b[0;34m)\u001b[0m\u001b[0;34m\u001b[0m\u001b[0;34m\u001b[0m\u001b[0m\n\u001b[0m\u001b[1;32m      7\u001b[0m \u001b[0mcells_no_info\u001b[0m \u001b[0;34m=\u001b[0m \u001b[0mwbSmallCountries\u001b[0m\u001b[0;34m.\u001b[0m\u001b[0misnull\u001b[0m\u001b[0;34m(\u001b[0m\u001b[0;34m)\u001b[0m\u001b[0;34m.\u001b[0m\u001b[0msum\u001b[0m\u001b[0;34m(\u001b[0m\u001b[0;34m)\u001b[0m\u001b[0;34m.\u001b[0m\u001b[0msum\u001b[0m\u001b[0;34m(\u001b[0m\u001b[0;34m)\u001b[0m\u001b[0;34m\u001b[0m\u001b[0;34m\u001b[0m\u001b[0m\n\u001b[1;32m      8\u001b[0m \u001b[0;34m\u001b[0m\u001b[0m\n",
      "\u001b[0;31mNameError\u001b[0m: name 'wbSmallCountries' is not defined"
     ]
    }
   ],
   "source": [
    "import numpy as np\n",
    "import matplotlib as plt\n",
    "import pandas as pd\n",
    "\n",
    "#number of missing values of the \"small countries\"\n",
    "print(wbSmallCountries)\n",
    "cells_no_info = wbSmallCountries.isnull().sum().sum()\n",
    "\n",
    "print(cells_no_info)\n",
    "\n",
    "#we want to create a DF of countries with their missing values.\n",
    "\n",
    "smallcountries_1 = wbSmallCountries.isnull().sum(axis=1)\n",
    "print(smallcountries_1)\n",
    "\n",
    "#Barchart from smallcountries_1 \n",
    "cc = smallcountries_1.plot.bar(x='country', y = '')\n",
    "\n",
    "plt.xlabel('Countries')\n",
    "plt.ylabel('# Missing Values')\n",
    "\n",
    "plt.show()\n",
    "\n",
    "\n",
    "\n"
   ]
  },
  {
   "cell_type": "code",
   "execution_count": 14,
   "metadata": {},
   "outputs": [],
   "source": [
    "#first importing \n",
    "\n",
    "#import numpy as np\n",
    "#import matplotlib.pyplot as plt\n",
    "#import pandas as pd\n",
    "#import seaborn as sns\n",
    "\n",
    "#filecp = 'wbQueriedMostRecentData2013-2019.csv'\n",
    "#datacp = pd.read_csv(filecp)\n",
    "\n",
    "#% of GDP from Agriculture vs Gov. expenditure on Education\n",
    "\n",
    "#plt.scatter(x = 'Agriculture, forestry, and fishing, value added (% of GDP)',\n",
    "            #y = 'Government expenditure on education, total (% of government expenditure)',\n",
    "            #s = 'country')\n",
    "\n",
    "        \n",
    "#plt.scatter(x = 'Agriculture, forestry, and fishing, value added (% of GDP)',\n",
    "            #y = 'Government expenditure on education, total (% of government expenditure)',\n",
    "            #s = 'Access to electricity, rural (% of rural population)')        \n",
    "        \n",
    "#datacp.plot.scatter(x = 'Agriculture, forestry, and fishing, value added (% of GDP)',\n",
    "                    #y = 'Government expenditure on education, total (% of government expenditure)')\n",
    "\n",
    "#plt.text('Agriculture, forestry, and fishing, value added (% of GDP)',\n",
    "                #'Government expenditure on education, total (% of government expenditure)', \n",
    "                #'country', fontsize = 9)\n",
    "\n",
    "#ax = sns.scatterplot(x ='Agriculture, forestry, and fishing, value added (% of GDP)',\n",
    "                     #y ='Government expenditure on education, total (% of government expenditure)',\n",
    "                    #data = datacp,\n",
    "                    #hue = 'country')\n",
    "\n",
    "        \n",
    "#plt.show()\n",
    "\n",
    "#% of GDP from Agriculture vs Education Attainment"
   ]
  },
  {
   "cell_type": "code",
   "execution_count": 5,
   "metadata": {},
   "outputs": [
    {
     "data": {
      "image/png": "[encoded data removed]",
      "text/plain": [
       "<Figure size 720x360 with 1 Axes>"
      ]
     },
     "metadata": {},
     "output_type": "display_data"
    },
    {
     "data": {
      "image/png": "[encoded data removed]",
      "text/plain": [
       "<Figure size 720x360 with 1 Axes>"
      ]
     },
     "metadata": {},
     "output_type": "display_data"
    },
    {
     "data": {
      "image/png": "[encoded data removed]",
      "text/plain": [
       "<Figure size 720x360 with 1 Axes>"
      ]
     },
     "metadata": {},
     "output_type": "display_data"
    }
   ],
   "source": [
    "import numpy as np\n",
    "import matplotlib.pyplot as plt\n",
    "import pandas as pd\n",
    "import seaborn as sns\n",
    "import matplotlib.cm as cm\n",
    "sns.set(rc={'figure.figsize':(10,5)})\n",
    "\n",
    "smalldata= pd.read_csv('wbBigCountriesImputedMean.csv')\n",
    "\n",
    "#% of GDP from Agriculture vs % of GDP from Gov. expenditure on Education\n",
    "Agriculture = smalldata['Agriculture, forestry, and fishing, value added (% of GDP)'].tolist()\n",
    "GovExpEdu = smalldata['Government expenditure on education, total (% of government expenditure)'].tolist()\n",
    "\n",
    "agri_vs_edu = sns.scatterplot(data = smalldata, \n",
    "                              hue = \"country\",\n",
    "                              x = Agriculture, \n",
    "                              y = GovExpEdu,\n",
    "                              s = 100)\n",
    "\n",
    "plt.title('Agriculture as % of GDP  vs Gov. expenditure on Education')\n",
    "plt.xlabel('Agriculture, forestry, and fishing, value added (% of GDP)')\n",
    "plt.ylabel('Gov. Expenditure on Education, (% of GDP)')\n",
    "\n",
    "agri_vs_edu.legend(loc='center left', bbox_to_anchor=(1.25, 0.5), ncol=1)\n",
    "\n",
    "plt.show()\n",
    "\n",
    "#% of GDP from Agriculture vs Education Attainment\n",
    "EduAttain = smalldata['Educational attainment, at least completed upper secondary, population 25+, total (%) (cumulative)']\n",
    "\n",
    "agri_vs_secattain = sns.scatterplot(data = smalldata,\n",
    "                                   hue = 'country',\n",
    "                                   x = Agriculture,\n",
    "                                   y = EduAttain,\n",
    "                                   s = 100)\n",
    "\n",
    "plt.title('Agriculture as % of GDP  vs Edu. Att. upper Secondary')\n",
    "plt.xlabel('Agriculture, forestry, and fishing, value added (% of GDP)')\n",
    "plt.ylabel('Edu. attainment, at least completed upper secondary,(%) (cumulative)')\n",
    "\n",
    "agri_vs_secattain.legend(loc='center left', bbox_to_anchor=(1.25, 0.5), ncol=1)\n",
    "\n",
    "plt.show()\n",
    "\n",
    "\n",
    "#Birth rate vs Military Personnel\n",
    "\n",
    "Military = smalldata['Armed forces personnel (% of total labor force)']\n",
    "Birth = smalldata['Birth rate, crude (per 1,000 people)']\n",
    "\n",
    "birth_vs_military = sns.scatterplot(data = smalldata,\n",
    "                                   hue = 'country',\n",
    "                                   x = Birth,\n",
    "                                   y = Military,\n",
    "                                   s = 100)\n",
    "\n",
    "plt.title('Birth rate  vs Armed forces personnel')\n",
    "plt.xlabel('Birth rate, crude (per 1,000 people)')\n",
    "plt.ylabel('Armed forces personnel (% of total labor force)')\n",
    "\n",
    "birth_vs_military.legend(loc='center left', bbox_to_anchor=(1.25, 0.5), ncol=1)\n",
    "\n",
    "plt.show()\n",
    "\n",
    "\n"
   ]
  },
  {
   "cell_type": "markdown",
   "metadata": {},
   "source": [
    "### Talyah"
   ]
  },
  {
   "cell_type": "markdown",
   "metadata": {},
   "source": [
    "<span style=\"color:red\">**<<<<<<< local**</span>"
   ]
  },
  {
   "cell_type": "code",
   "execution_count": 6,
   "metadata": {},
   "outputs": [
    {
     "data": {
      "image/png": "[encoded data removed]",
      "text/plain": [
       "<Figure size 720x360 with 1 Axes>"
      ]
     },
     "metadata": {},
     "output_type": "display_data"
    },
    {
     "data": {
      "image/png": "[encoded data removed]",
      "text/plain": [
       "<Figure size 720x360 with 1 Axes>"
      ]
     },
     "metadata": {},
     "output_type": "display_data"
    }
   ],
   "source": [
    "import matplotlib.pyplot as plt \n",
    "import numpy as np \n",
    "import pandas as pd \n",
    "import seaborn as sns\n",
    "import matplotlib.cm as cm\n",
    "sns.set(rc={'figure.figsize':(10,5)})\n",
    "\n",
    "info= 'wbBigCountriesImputedMean.csv'\n",
    "\n",
    "df_armed_forces = pd.read_csv(info)\n",
    "\n",
    "#Created a scatterplot for correlation between government spending and armed personnel using seaborn\n",
    "\n",
    "ax = sns.scatterplot(x ='Government expenditure on education, total (% of government expenditure)', y = 'Armed forces personnel (% of total labor force)', data = df_armed_forces, hue = 'country', s = 100)\n",
    "\n",
    "ax.legend(loc='center left', bbox_to_anchor=(1.25, 0.5), ncol=1)\n",
    "\n",
    "ax.set_title('Gov\\' Spending vs. Armed Personnel')\n",
    "\n",
    "plt.show()\n",
    "\n",
    "\n",
    "#Created a scatterplot for correlation between the poverty ratio and armed personnel using seaborn\n",
    "\n",
    "ax = sns.scatterplot(x ='Poverty headcount ratio at $3.20 a day (2011 PPP) (% of population)', y = 'Armed forces personnel (% of total labor force)', data = df_armed_forces, hue = 'country', s = 100)\n",
    "\n",
    "ax.legend(loc='center left', bbox_to_anchor=(1.25, 0.5), ncol=1)\n",
    "\n",
    "ax.set_title('Poverty Ratio vs. Armed Personnel')\n",
    "\n",
    "plt.show()"
   ]
  },
  {
   "cell_type": "markdown",
   "metadata": {},
   "source": [
    "<span style=\"color:red\">**=======**</span>"
   ]
  },
  {
   "cell_type": "markdown",
   "metadata": {},
   "source": [
    "<span style=\"color:red\">**<<<<<<< local**</span>"
   ]
  },
  {
   "cell_type": "code",
   "execution_count": 16,
   "metadata": {},
   "outputs": [
    {
     "data": {
      "image/png": "[encoded data removed]",
      "text/plain": [
       "<Figure size 432x288 with 1 Axes>"
      ]
     },
     "metadata": {
      "needs_background": "light"
     },
     "output_type": "display_data"
    },
    {
     "data": {
      "image/png": "[encoded data removed]",
      "text/plain": [
       "<Figure size 432x288 with 1 Axes>"
      ]
     },
     "metadata": {
      "needs_background": "light"
     },
     "output_type": "display_data"
    }
   ],
   "source": [
    "import matplotlib.pyplot as plt \n",
    "import numpy as np \n",
    "import pandas as pd \n",
    "import seaborn as sns\n",
    "\n",
    "info= 'smalldatacountries.csv'\n",
    "\n",
    "df_armed_forces = pd.read_csv(info)\n",
    "\n",
    "#Created a scatterplot for correlation between government spending and armed personnel using seaborn\n",
    "\n",
    "ax = sns.scatterplot(x ='Government expenditure on education, total (% of government expenditure)', y = 'Armed forces personnel (% of total labor force)', data = df_armed_forces, hue = 'country')\n",
    "\n",
    "ax.legend(loc='center left', bbox_to_anchor=(1.25, 0.5), ncol=1)\n",
    "\n",
    "ax.set_title('Gov\\' Spending vs. Armed Personnel')\n",
    "\n",
    "plt.show()\n",
    "\n",
    "\n",
    "#Created a scatterplot for correlation between the poverty ratio and armed personnel using seaborn\n",
    "\n",
    "ax = sns.scatterplot(x ='Poverty headcount ratio at $3.20 a day (2011 PPP) (% of population)', y = 'Armed forces personnel (% of total labor force)', data = df_armed_forces, hue = 'country')\n",
    "\n",
    "ax.legend(loc='center left', bbox_to_anchor=(1.25, 0.5), ncol=1)\n",
    "\n",
    "ax.set_title('Poverty Ratio vs. Armed Personnel')\n",
    "\n",
    "plt.show()"
   ]
  },
  {
   "cell_type": "markdown",
   "metadata": {},
   "source": [
    "<span style=\"color:red\">**=======**</span>"
   ]
  },
  {
   "cell_type": "code",
   "execution_count": 7,
   "metadata": {},
   "outputs": [],
   "source": [
    "import matplotlib.pyplot as plt \n",
    "import numpy as np \n",
    "import pandas as pd \n",
    "import seaborn as sns\n",
    "\n",
    "info = 'wbQueriedMostRecentData2013-2019_LargeData.csv'\n",
    "\n",
    "df_armed_forces = pd.read_csv(info)\n",
    "\n",
    "#Created a scatterplot for correlation between government spending and armed personnel using seaborn\n",
    "\n",
    "ax = sns.scatterplot(x ='Government expenditure on education, total (% of government expenditure)', y = 'Armed forces personnel (% of total labor force)', data = df_armed_forces, hue = 'country')\n",
    "\n",
    "ax.legend(loc='center left', bbox_to_anchor=(1.25, 0.5), ncol=1)\n",
    "\n",
    "ax.set_title('Gov\\' Spending vs. Armed Personnel')\n",
    "\n",
    "plt.show()\n",
    "\n",
    "\n",
    "#Created a scatterplot for correlation between the poverty ratio and armed personnel using seaborn\n",
    "\n",
    "ax = sns.scatterplot(x ='Poverty headcount ratio at $3.20 a day (2011 PPP) (% of population)', y = 'Armed forces personnel (% of total labor force)', data = df_armed_forces, hue = 'country')\n",
    "\n",
    "ax.legend(loc='center left', bbox_to_anchor=(1.25, 0.5), ncol=1)\n",
    "\n",
    "ax.set_title('Poverty Ratio vs. Armed Personnel')\n",
    "\n",
    "plt.show()"
   ]
  },
  {
   "cell_type": "markdown",
   "metadata": {},
   "source": [
    "<span style=\"color:red\">**>>>>>>> remote**</span>"
   ]
  },
  {
   "cell_type": "markdown",
   "metadata": {},
   "source": [
    "<span style=\"color:red\">**>>>>>>> remote**</span>"
   ]
  },
  {
   "cell_type": "markdown",
   "metadata": {},
   "source": [
    "### Elmir "
   ]
  },
  {
   "cell_type": "code",
   "execution_count": null,
   "metadata": {},
   "outputs": [],
   "source": []
  },
  {
   "cell_type": "markdown",
   "metadata": {},
   "source": [
    "### Diego"
   ]
  },
  {
   "cell_type": "code",
   "execution_count": 8,
   "metadata": {
    "code_folding": [
     1
    ],
    "scrolled": true
   },
   "outputs": [],
   "source": [
    "\n",
    "def extractAllIndicators():\n",
    "    import world_bank_data as wb\n",
    "\n",
    "    # It's necessary to get the indicators code, this is different from the column names. \n",
    "        # E.g: Income share held by fourth 20% is coded as: SI.DST.04TH.20\n",
    "\n",
    "    missingIndicators = missingValuesByColumn[missingValuesByColumn >= 1].index.copy()\n",
    "\n",
    "\n",
    "    # Created empty dataframe with the column format that the API will return\n",
    "        # We just need to append in a simple loop\n",
    "    indicatorsCodedMissing = pd.DataFrame(columns = ['name', 'unit', 'source', 'sourceNote', 'sourceOrganization', 'topics'])\n",
    "\n",
    "\n",
    "    # Loop to get the missing indicators and store the in the indicatorsCodedMissing data frame\n",
    "    for i in list(missingIndicators):\n",
    "        indicatorsCodedMissing = indicatorsCodedMissing.append(wb.search_indicators(i))\n",
    "\n",
    "    # We can view the first the indicator names\n",
    "#     print(f'{indicatorsCodedMissing.index[0:3]} \\n')\n",
    "\n",
    "    # We can view the head of the dataframe as well, we have really interesting info! \n",
    "#     indicatorsCodedMissing.head()\n",
    "\n",
    "    # Shape of matrix \n",
    "#     indicatorsCodedMissing.shape\n",
    "\n",
    "    return indicatorsCodedMissing\n",
    "\n",
    "import pandas as pd\n",
    "\n",
    "# Big Countries names\n",
    "bigCountries = ['Austria','Belgium','Denmark',\n",
    "                'France','Germany','Iceland', \n",
    "                'Ireland', 'Italy', 'Luxembourg', \n",
    "                'Netherlands', 'Portugal', 'Spain', \n",
    "                'Switzerland','United Kingdom']\n",
    "\n",
    "\n",
    "# Read last data\n",
    "<<<<<<< local\n",
    "<<<<<<< local\n",
    "wbFullDiego = pd.read_csv('wbQueriedMostRecentData2013-2019.csv')\n",
    "wbFullDiego = pd.read_csv('wb_490NA_2019-2015.csv',)\n",
    "=======\n",
    "wbFullDiego = pd.read_csv('wb_490NA_2019-2015.csv')\n",
    ">>>>>>> remote\n",
    "=======\n",
    "wbFullDiego = pd.read_csv('wb_490NA_2019-2015.csv')\n",
    ">>>>>>> remote\n",
    "wbFullDiego.set_index('country', inplace = True) # We set the country column as an index\n",
    "\n",
    "# Small and big countries, how many missing values are there\n",
    "wbFullDiegoNA = wbFullDiego.isnull().sum()\n",
    "wbFullDiegoNA[wbFullDiegoNA >= 1].sort_values(ascending=False)\n",
    "\n",
    "\n",
    "# Big countries data set creation\n",
    "wbBigCountries = wbFullDiego.copy()\n",
    "wbBigCountries = wbBigCountries.loc[bigCountries,:]\n",
    "wbBigCountriesTranspose = wbBigCountries.transpose()\n",
    "# wbBigCountries = wbBigCountries[bigCountries].transpose()\n",
    "\n",
    "# Big countries Indicators Null values analysis, which indicators have at least 2 missing value?\n",
    "wbBigCountriesNull = wbBigCountries.isnull().sum()\n",
    "wbBigCountriesNull[wbBigCountriesNull >=2].sort_values(ascending = False)\n",
    "\n",
    "# Big countries have Null values, which countries have missing values?\n",
    "wbBigCountries.transpose().isnull().sum().plot(kind = 'box')\n",
    "wbBigCountries.transpose().isnull().sum().sort_values(ascending = False)\n",
    "\n",
    "\n",
    "\n",
    "\n",
    "\n",
    "# Small countries df creation\n",
    "wbSmallCountries = wbFullDiego.copy()\n",
    "wbSmallCountries = wbSmallCountries.drop(bigCountries)\n",
    "\n",
    "# Small countries null values, analysis, which countries have at least one value missing?\n",
    "\n",
    "wbSmallCountriesNull = wbSmallCountries.isnull().sum()\n",
    "# wbSmallCountries[wbSmallCountriesNull[wbSmallCountriesNull < 1].index] # countries that don't have any missing value\n",
    "\n",
    "# Missing values per country\n",
    "# wbSmallCountries.transpose().isnull().sum().sort_values()\n",
    "\n",
    "###############################################################\n",
    "# Inner join for topics, still pending\n",
    "# indicatorsCodedMissing = extractAllIndicators()\n",
    "# wbFullDiegoTranspose = wbFullDiego.transpose()\n",
    "# wbFullDiegoTranspose.columns = wbFullDiegoTranspose.iloc[0]\n",
    "\n",
    "# indicatorsCodedMissing.set_index('name', inplace = True)\n",
    "# indicatorsCodedMissing.join\n",
    "\n",
    "# wbBigCountries\n",
    "\n",
    "# wbBigCountriesNull[wbBigCountriesNull >=1].sort_values(ascending = False)\n"
   ]
  },
  {
   "cell_type": "code",
   "execution_count": null,
   "metadata": {
    "scrolled": true
   },
   "outputs": [],
   "source": [
    "from scipy import stats\n",
    "\n",
    "\n",
    "\n",
    "# wbBigCountries\n",
    "# stats.ks_2samp(wbBigCountries['Prevalence of HIV, total (% of population ages 15-49)'].values, \n",
    "#                               wbBigCountries['Prevalence of HIV, total (% of population ages 15-49)'].values)\n",
    "\n",
    "wbBigCountriesBenchImputed = wbBigCountries.copy()\n",
    "wbBigCountriesBenchImputed = wbBigCountriesBenchImputed.drop(['Prevalence of underweight, weight for age (% of children under 5)',\n",
    "                                             'Poverty headcount ratio at national poverty lines (% of population)',\n",
    "                                             'Population living in slums (% of urban population)',\n",
    "                                             'Number of people pushed below the $3.10 ($ 2011 PPP) poverty line by out-of-pocket health care expenditure'\n",
    "                                             ], axis = 1)\n",
    "\n",
    "wbBigCountriesImputed = wbBigCountries.copy()\n",
    "wbBigCountriesImputed = wbBigCountriesImputed.drop(['Prevalence of underweight, weight for age (% of children under 5)',\n",
    "                                             'Poverty headcount ratio at national poverty lines (% of population)',\n",
    "                                             'Population living in slums (% of urban population)',\n",
    "                                             'Number of people pushed below the $3.10 ($ 2011 PPP) poverty line by out-of-pocket health care expenditure'\n",
    "                                             ], axis = 1)\n",
    "\n",
    "wbBigCountriesBenchImputed = wbBigCountriesBenchImputed.astype(float)\n",
    "wbBigCountriesImputed = wbBigCountriesImputed.astype(float)\n",
    "\n",
    "\n",
    "# wbCountriesImputed = wbCountriesImputed.reset_index()\n",
    "# wbCountriesImputed.interpolate(method ='spline',order = 2).isnull().sum().sum()\n",
    "\n",
    "for column in range(len(wbBigCountries.columns)):\n",
    "    pvalue,stati = stats.ks_2samp(wbBigCountries.iloc[:,column].values, \n",
    "                   wbBigCountries.iloc[:,column].values)\n",
    "# wb20132019 = pd.read_csv('wbQueriedMostRecentData2013-2019.csv') \n",
    "# wb490 = pd.read_csv('wbQueriedMostRecentData2013-2019.csv')\n",
    "\n",
    "\n",
    "# p,stati = stats.ks_2samp(wbBigCountries.iloc[:,0].values, wbBigCountries.iloc[:,0].values)\n",
    "\n",
    "# print(\n",
    "#     wbBigCountries.isnull().sum().sum(),\n",
    "#     wbCountriesImputed.interpolate(method ='linear', limit_direction ='forward').isnull().sum().sum())\n",
    "\n",
    "# pValuesLinear = []\n",
    "\n",
    "# for column in range(len(wbBigCountries.columns)):\n",
    "#     pvalue,stati = stats.ks_2samp(wbBigCountries.iloc[:,column].values, \n",
    "#                    wbCountriesImputed.interpolate(method ='linear', \n",
    "#                                                   limit_direction ='forward').iloc[:,column])\n",
    "    \n",
    "#     pValues.append(pvalue)\n",
    "    \n",
    "    \n",
    "pValuesMean = []\n",
    "\n",
    "for column in range(len(wbBigCountriesBenchImputed.columns)):\n",
    "#     print(column)\n",
    "    \n",
    "    stati,pvalue = stats.ks_2samp(wbBigCountriesBenchImputed.iloc[:,column].values, \n",
    "                       wbBigCountriesImputed.fillna(wbBigCountriesBenchImputed.mean()).iloc[:,column].values)\n",
    "#     print(wbBigCountriesImputed.columns[column],pvalue)\n",
    "    pValuesMean.append(pvalue)\n",
    "\n",
    "\n",
    "ksPvaluesDf = pd.DataFrame({'Indicators': wbBigCountriesImputed.columns, 'KS-PValues':pValuesMean})\n",
    "\n",
    "wbBigCountriesImputedMean = wbBigCountriesImputed.fillna(wbBigCountriesBenchImputed.mean())\n",
    "\n",
    "for colindex in range(wbBigCountriesImputedMean.shape[1]):\n",
    "    wbBigCountriesImputedMean.rename(columns =\n",
    "                                     {wbBigCountriesImputedMean.columns[colindex]: wbBigCountriesImputedMean.columns[colindex] + '_IMPUTEDMEAN'},\n",
    "                                     inplace = True\n",
    "                                    )\n",
    "\n",
    "\n",
    "\n",
    "# wbBigCountriesImputedMean['Educational attainment, at least completed upper secondary, population 25+, total (%) (cumulative)']\n",
    "pd.concat([wbBigCountriesBenchImputed,wbBigCountriesImputedMean], axis = 1).columns\n",
    "\n",
    "# ksPvaluesDf.set_index('Indicators',inplace=True)\n",
    "# ksPvaluesDf.sort_values(by = 'KS-PValues',\n",
    "#                         ascending=True)\n",
    "\n",
    "\n",
    "# ksPvaluesDf.loc['Educational attainment, at least completed upper secondary, population 25+, total (%) (cumulative)',:]\n",
    "\n",
    "# ksPvaluesDf.iloc[16,:]\n",
    "# print(mean(pValues))"
   ]
  },
  {
   "cell_type": "code",
   "execution_count": null,
   "metadata": {},
   "outputs": [],
   "source": [
    "wbBigCountriesBenchImputedNull = wbBigCountriesBenchImputed.isnull().sum()\n",
    "wbBigCountriesBenchImputedNull[wbBigCountriesBenchImputedNull >=1].sort_values(ascending = False)"
   ]
  },
  {
   "cell_type": "markdown",
   "metadata": {},
   "source": [
    "#### Plots for Elmir"
   ]
  },
  {
   "cell_type": "code",
   "execution_count": 24,
   "metadata": {},
   "outputs": [
    {
     "data": {
      "image/png": "[encoded data removed]",
      "text/plain": [
       "<Figure size 432x288 with 1 Axes>"
      ]
     },
     "metadata": {},
     "output_type": "display_data"
    },
    {
     "data": {
      "image/png": "[encoded data removed]",
      "text/plain": [
       "<Figure size 432x288 with 1 Axes>"
      ]
     },
     "metadata": {},
     "output_type": "display_data"
    }
   ],
   "source": [
    "import pandas as pd\n",
    "import seaborn as sns\n",
    "import matplotlib.pyplot as plt\n",
    "%matplotlib inline\n",
    "sns.set()\n",
    "\n",
    "\n",
    "liExpGdpPop = pd.read_csv('Life_E.csv',\n",
    "                          index_col=0,\n",
    "                          thousands=',')\n",
    "\n",
    "liExpGdpPop['Size'] =  'Small'\n",
    "\n",
    "liExpGdpPop.loc[ 'BigCountries', 'Size'] = 'Big' \n",
    "\n",
    "\n",
    "\n",
    "# plt.figure(figsize=(200,200))\n",
    "# g = sns.FacetGrid(hue = 'Size',data = liExpGdpPop)\n",
    "# g.map(plt.scatter, \"Life Expectancy\", \"GDP per capita\", alpha=.7)\n",
    "# plt.figure(figsize=(16, 6))\n",
    "# liExpGdpPop.boxplot( by = 'Size',figsize=(50,50))\n",
    "# liExpGdpPop.plot()\n",
    "\n",
    "sns.boxplot(hue = 'Size', x = 'Size', y = 'GDP per capita', data = liExpGdpPop)\n",
    "plt.show()\n",
    "sns.violinplot(hue = 'Size', x = 'Size', y = 'GDP per capita', data = liExpGdpPop)\n",
    "plt.show()\n",
    "\n",
    "\n",
    "# sns.pairplot(data = liExpGdpPop,\n",
    "#              x_vars = ['Life Expectancy', 'GDP per capita', 'Population '],\n",
    "#              y_vars =  ['Life Expectancy', 'GDP per capita', 'Population '],\n",
    "#              hue = 'Size', palette = 'plasma')\n",
    "\n",
    "# li"
   ]
  },
  {
   "cell_type": "markdown",
   "metadata": {},
   "source": []
  },
  {
   "cell_type": "code",
   "execution_count": null,
   "metadata": {},
   "outputs": [],
   "source": [
    "# 'wb_490NA_2019-2015.csv'\n",
    "# wbQueriedMostRecentData2013-2019.csv\n",
    "wbFullDiego = pd.read_csv('wbQueriedMostRecentData2013-2019.csv')\n",
    "wbFullDiego.set_index('country', inplace = True)\n",
    "wbSmallCountries = wbFullDiego.copy()\n",
    "wbSmallCountries = wbSmallCountries.drop(bigCountries)\n",
    "wbSmallCountriesNull = wbSmallCountries.isnull().sum()\n",
    "wbSmallCountries[wbSmallCountriesNull[wbSmallCountriesNull < 1].index]\n",
    "\n",
    "\n",
    "# wbFullDiego"
   ]
  },
  {
   "cell_type": "markdown",
   "metadata": {},
   "source": []
  }
 ],
 "metadata": {
  "kernelspec": {
   "display_name": "Python 3",
   "language": "python",
   "name": "python3"
  },
  "language_info": {
   "codemirror_mode": {
    "name": "ipython",
    "version": 3
   },
   "file_extension": ".py",
   "mimetype": "text/x-python",
   "name": "python",
   "nbconvert_exporter": "python",
   "pygments_lexer": "ipython3",
   "version": "3.7.3"
  },
  "toc": {
   "base_numbering": 1,
   "nav_menu": {},
   "number_sections": true,
   "sideBar": false,
   "skip_h1_title": false,
   "title_cell": "Table of Contents",
   "title_sidebar": "Contents",
   "toc_cell": false,
   "toc_position": {
    "height": "562.76px",
    "left": "1251.94px",
    "top": "52px",
    "width": "284.878px"
   },
   "toc_section_display": true,
   "toc_window_display": false
  },
  "varInspector": {
   "cols": {
    "lenName": 16,
    "lenType": 16,
    "lenVar": 40
   },
   "kernels_config": {
    "python": {
     "delete_cmd_postfix": "",
     "delete_cmd_prefix": "del ",
     "library": "var_list.py",
     "varRefreshCmd": "print(var_dic_list())"
    },
    "r": {
     "delete_cmd_postfix": ") ",
     "delete_cmd_prefix": "rm(",
     "library": "var_list.r",
     "varRefreshCmd": "cat(var_dic_list()) "
    }
   },
   "oldHeight": 541.96875,
   "position": {
    "height": "40px",
    "left": "727px",
    "right": "20px",
    "top": "65px",
    "width": "752.765625px"
   },
   "types_to_exclude": [
    "module",
    "function",
    "builtin_function_or_method",
    "instance",
    "_Feature"
   ],
   "varInspector_section_display": "none",
   "window_display": false
  }
 },
 "nbformat": 4,
 "nbformat_minor": 2
}
